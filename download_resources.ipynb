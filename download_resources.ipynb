{
  "nbformat": 4,
  "nbformat_minor": 0,
  "metadata": {
    "kernelspec": {
      "display_name": "Python 3",
      "language": "python",
      "name": "python3"
    },
    "language_info": {
      "codemirror_mode": {
        "name": "ipython",
        "version": 3
      },
      "file_extension": ".py",
      "mimetype": "text/x-python",
      "name": "python",
      "nbconvert_exporter": "python",
      "pygments_lexer": "ipython3",
      "version": "3.6.5"
    },
    "colab": {
      "name": "download_resources.ipynb",
      "provenance": []
    }
  },
  "cells": [
    {
      "cell_type": "code",
      "metadata": {
        "id": "glsZxZQ1wcHR"
      },
      "source": [
        "import download_utils"
      ],
      "execution_count": null,
      "outputs": []
    },
    {
      "cell_type": "markdown",
      "metadata": {
        "id": "yQ8z7ujAwcHT"
      },
      "source": [
        "## Keras resources"
      ]
    },
    {
      "cell_type": "code",
      "metadata": {
        "id": "sPWRpe6KwcHU"
      },
      "source": [
        "download_utils.download_all_keras_resources(\"readonly/keras/models\", \"readonly/keras/datasets\")"
      ],
      "execution_count": null,
      "outputs": []
    },
    {
      "cell_type": "markdown",
      "metadata": {
        "id": "qMiUEIYJwcHW"
      },
      "source": [
        "## Week 3 resources"
      ]
    },
    {
      "cell_type": "code",
      "metadata": {
        "id": "zfJLAOzNwcHX"
      },
      "source": [
        "download_utils.download_week_3_resources(\"readonly/week3\")"
      ],
      "execution_count": null,
      "outputs": []
    },
    {
      "cell_type": "markdown",
      "metadata": {
        "id": "Fw6WOdnZwcHZ"
      },
      "source": [
        "## Week 4 resources"
      ]
    },
    {
      "cell_type": "code",
      "metadata": {
        "id": "wVnN5ouVwcHZ"
      },
      "source": [
        "download_utils.download_week_4_resources(\"readonly/week4\")"
      ],
      "execution_count": null,
      "outputs": []
    },
    {
      "cell_type": "markdown",
      "metadata": {
        "id": "PKHBZ3d6wcHb"
      },
      "source": [
        "## Week 6 resources"
      ]
    },
    {
      "cell_type": "code",
      "metadata": {
        "id": "aKavupfIwcHb"
      },
      "source": [
        "download_utils.download_week_6_resources(\"readonly/week6\")"
      ],
      "execution_count": null,
      "outputs": []
    }
  ]
}