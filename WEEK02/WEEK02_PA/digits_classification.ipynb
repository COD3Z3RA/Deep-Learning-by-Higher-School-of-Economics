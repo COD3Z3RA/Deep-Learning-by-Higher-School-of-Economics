{
 "cells": [
  {
   "cell_type": "markdown",
   "metadata": {
    "slideshow": {
     "slide_type": "slide"
    }
   },
   "source": [
    "# MNIST digits classification with TensorFlow"
   ]
  },
  {
   "cell_type": "markdown",
   "metadata": {},
   "source": [
    "<img src=\"images/mnist_sample.png\" style=\"width:30%\">"
   ]
  },
  {
   "cell_type": "code",
   "execution_count": null,
   "metadata": {
    "collapsed": true
   },
   "outputs": [],
   "source": [
    "import numpy as np\n",
    "from sklearn.metrics import accuracy_score\n",
    "from matplotlib import pyplot as plt\n",
    "%matplotlib inline\n",
    "import tensorflow as tf\n",
    "print(\"We're using TF\", tf.__version__)\n",
    "\n",
    "import sys\n",
    "sys.path.append(\"../..\")\n",
    "import grading\n",
    "\n",
    "import matplotlib_utils\n",
    "from importlib import reload\n",
    "reload(matplotlib_utils)\n",
    "\n",
    "import grading_utils\n",
    "reload(grading_utils)\n",
    "\n",
    "import keras_utils\n",
    "from keras_utils import reset_tf_session"
   ]
  },
  {
   "cell_type": "markdown",
   "metadata": {},
   "source": [
    "# Fill in your Coursera token and email\n",
    "To successfully submit your answers to our grader, please fill in your Coursera submission token and email"
   ]
  },
  {
   "cell_type": "code",
   "execution_count": 8,
   "metadata": {
    "collapsed": true
   },
   "outputs": [],
   "source": [
    "grader = grading.Grader(assignment_key=\"XtD7ho3TEeiHQBLWejjYAA\", \n",
    "                        all_parts=[\"9XaAS\", \"vmogZ\", \"RMv95\", \"i8bgs\", \"rE763\"])"
   ]
  },
  {
   "cell_type": "code",
   "execution_count": 9,
   "metadata": {
    "collapsed": true
   },
   "outputs": [],
   "source": [
    "# token expires every 30 min\n",
    "COURSERA_TOKEN = \"FCh8giSmx2usvpLR\"\n",
    "COURSERA_EMAIL = \"duttasushant@yahoo.com\""
   ]
  },
  {
   "cell_type": "markdown",
   "metadata": {},
   "source": [
    "# Look at the data\n",
    "\n",
    "In this task we have 50000 28x28 images of digits from 0 to 9.\n",
    "We will train a classifier on this data."
   ]
  },
  {
   "cell_type": "code",
   "execution_count": 10,
   "metadata": {
    "collapsed": true
   },
   "outputs": [],
   "source": [
    "import preprocessed_mnist\n",
    "X_train, y_train, X_val, y_val, X_test, y_test = preprocessed_mnist.load_dataset_from_file()"
   ]
  },
  {
   "cell_type": "code",
   "execution_count": 11,
   "metadata": {},
   "outputs": [
    {
     "name": "stdout",
     "output_type": "stream",
     "text": [
      "X_train [shape (50000, 28, 28)] sample patch:\n",
      " [[ 0.          0.29803922  0.96470588  0.98823529  0.43921569]\n",
      " [ 0.          0.33333333  0.98823529  0.90196078  0.09803922]\n",
      " [ 0.          0.33333333  0.98823529  0.8745098   0.        ]\n",
      " [ 0.          0.33333333  0.98823529  0.56862745  0.        ]\n",
      " [ 0.          0.3372549   0.99215686  0.88235294  0.        ]]\n",
      "A closeup of a sample patch:\n"
     ]
    },
    {
     "data": {
      "image/png": "[encoded data removed]",
      "text/plain": [
       "<matplotlib.figure.Figure at 0x7f0a29b59518>"
      ]
     },
     "metadata": {},
     "output_type": "display_data"
    },
    {
     "name": "stdout",
     "output_type": "stream",
     "text": [
      "And the whole sample:\n"
     ]
    },
    {
     "data": {
      "image/png": "[encoded data removed]",
      "text/plain": [
       "<matplotlib.figure.Figure at 0x7f0a29b20518>"
      ]
     },
     "metadata": {},
     "output_type": "display_data"
    },
    {
     "name": "stdout",
     "output_type": "stream",
     "text": [
      "y_train [shape (50000,)] 10 samples:\n",
      " [5 0 4 1 9 2 1 3 1 4]\n"
     ]
    }
   ],
   "source": [
    "# X contains rgb values divided by 255\n",
    "print(\"X_train [shape %s] sample patch:\\n\" % (str(X_train.shape)), X_train[1, 15:20, 5:10])\n",
    "print(\"A closeup of a sample patch:\")\n",
    "plt.imshow(X_train[1, 15:20, 5:10], cmap=\"Greys\")\n",
    "plt.show()\n",
    "print(\"And the whole sample:\")\n",
    "plt.imshow(X_train[1], cmap=\"Greys\")\n",
    "plt.show()\n",
    "print(\"y_train [shape %s] 10 samples:\\n\" % (str(y_train.shape)), y_train[:10])"
   ]
  },
  {
   "cell_type": "markdown",
   "metadata": {},
   "source": [
    "# Linear model\n",
    "\n",
    "Your task is to train a linear classifier $\\vec{x} \\rightarrow y$ with SGD using TensorFlow.\n",
    "\n",
    "You will need to calculate a logit (a linear transformation) $z_k$ for each class: \n",
    "$$z_k = \\vec{x} \\cdot \\vec{w_k} + b_k \\quad k = 0..9$$\n",
    "\n",
    "And transform logits $z_k$ to valid probabilities $p_k$ with softmax: \n",
    "$$p_k = \\frac{e^{z_k}}{\\sum_{i=0}^{9}{e^{z_i}}} \\quad k = 0..9$$\n",
    "\n",
    "We will use a cross-entropy loss to train our multi-class classifier:\n",
    "$$\\text{cross-entropy}(y, p) = -\\sum_{k=0}^{9}{\\log(p_k)[y = k]}$$ \n",
    "\n",
    "where \n",
    "$$\n",
    "[x]=\\begin{cases}\n",
    "       1, \\quad \\text{if $x$ is true} \\\\\n",
    "       0, \\quad \\text{otherwise}\n",
    "    \\end{cases}\n",
    "$$\n",
    "\n",
    "Cross-entropy minimization pushes $p_k$ close to 1 when $y = k$, which is what we want.\n",
    "\n",
    "Here's the plan:\n",
    "* Flatten the images (28x28 -> 784) with `X_train.reshape((X_train.shape[0], -1))` to simplify our linear model implementation\n",
    "* Use a matrix placeholder for flattened `X_train`\n",
    "* Convert `y_train` to one-hot encoded vectors that are needed for cross-entropy\n",
    "* Use a shared variable `W` for all weights (a column $\\vec{w_k}$ per class) and `b` for all biases.\n",
    "* Aim for ~0.93 validation accuracy"
   ]
  },
  {
   "cell_type": "code",
   "execution_count": 12,
   "metadata": {},
   "outputs": [
    {
     "name": "stdout",
     "output_type": "stream",
     "text": [
      "(50000, 784)\n",
      "(10000, 784)\n"
     ]
    }
   ],
   "source": [
    "X_train_flat = X_train.reshape((X_train.shape[0], -1))\n",
    "print(X_train_flat.shape)\n",
    "\n",
    "X_val_flat = X_val.reshape((X_val.shape[0], -1))\n",
    "print(X_val_flat.shape)"
   ]
  },
  {
   "cell_type": "code",
   "execution_count": 13,
   "metadata": {},
   "outputs": [
    {
     "name": "stdout",
     "output_type": "stream",
     "text": [
      "(50000, 10)\n",
      "[[ 0.  0.  0.  0.  0.  1.  0.  0.  0.  0.]\n",
      " [ 1.  0.  0.  0.  0.  0.  0.  0.  0.  0.]\n",
      " [ 0.  0.  0.  0.  1.  0.  0.  0.  0.  0.]] [5 0 4]\n"
     ]
    }
   ],
   "source": [
    "import keras\n",
    "\n",
    "y_train_oh = keras.utils.to_categorical(y_train, 10)\n",
    "y_val_oh = keras.utils.to_categorical(y_val, 10)\n",
    "\n",
    "print(y_train_oh.shape)\n",
    "print(y_train_oh[:3], y_train[:3])"
   ]
  },
  {
   "cell_type": "code",
   "execution_count": 14,
   "metadata": {
    "collapsed": true
   },
   "outputs": [],
   "source": [
    "# run this again if you remake your graph\n",
    "s = reset_tf_session()"
   ]
  },
  {
   "cell_type": "code",
   "execution_count": 15,
   "metadata": {
    "collapsed": true
   },
   "outputs": [],
   "source": [
    "# Model parameters: W and b\n",
    "W = tf.get_variable(\"W\", shape=(784,10), dtype = tf.float32, initializer = tf.contrib.layers.xavier_initializer())\n",
    "b = tf.get_variable(\"b\", shape=(10,), dtype = tf.float32, initializer = tf.contrib.layers.xavier_initializer())\n"
   ]
  },
  {
   "cell_type": "code",
   "execution_count": 16,
   "metadata": {
    "collapsed": true
   },
   "outputs": [],
   "source": [
    "# Placeholders for the input data\n",
    "input_X =tf.placeholder(tf.float32, shape=[None, 784]) \n",
    "input_y =tf.placeholder(tf.float32, shape=[None, 10])"
   ]
  },
  {
   "cell_type": "code",
   "execution_count": 18,
   "metadata": {
    "collapsed": true
   },
   "outputs": [],
   "source": [
    "# Compute predictions\n",
    "logits = tf.matmul(input_X, W)+b ### shape should be [input_X.shape[0], 10]\n",
    "probas = tf.nn.softmax(logits) ### apply tf.nn.softmax to logits\n",
    "classes = tf.argmax(probas, 1) ### apply tf.argmax to find a class index with highest probability\n",
    "\n",
    "# Loss should be a scalar number: average loss over all the objects with tf.reduce_mean().\n",
    "# Use tf.nn.softmax_cross_entropy_with_logits on top of one-hot encoded input_y and logits.\n",
    "# It is identical to calculating cross-entropy on top of probas, but is more numerically friendly (read the docs).\n",
    "# logits_h = keras.utils.to_categorical(logits, 10)\n",
    "# input_yh = keras.utils.to_categorical(input_y)\n",
    "loss = tf.reduce_mean(tf.nn.softmax_cross_entropy_with_logits(logits=logits, labels=input_y)) ### cross-entropy loss\n",
    "\n",
    "# Use a default tf.train.AdamOptimizer to get an SGD step\n",
    "step = tf.train.AdamOptimizer().minimize(loss) ### optimizer step that minimizes the loss"
   ]
  },
  {
   "cell_type": "code",
   "execution_count": 19,
   "metadata": {
    "scrolled": false
   },
   "outputs": [
    {
     "data": {
      "text/html": [
       "<img src=\"data:image/jpeg;base64,/9j/4AAQSkZJRgABAQAAAQABAAD/2wBDAAIBAQEBAQIBAQECAgICAgQDAgICAgUEBAMEBgUGBgYFBgYGBwkIBgcJBwYGCAsICQoKCgoKBggLDAsKDAkKCgr/2wBDAQICAgICAgUDAwUKBwYHCgoKCgoKCgoKCgoKCgoKCgoKCgoKCgoKCgoKCgoKCgoKCgoKCgoKCgoKCgoKCgoKCgr/wAARCAEgA2ADASIAAhEBAxEB/8QAHwAAAQUBAQEBAQEAAAAAAAAAAAECAwQFBgcICQoL/8QAtRAAAgEDAwIEAwUFBAQAAAF9AQIDAAQRBRIhMUEGE1FhByJxFDKBkaEII0KxwRVS0fAkM2JyggkKFhcYGRolJicoKSo0NTY3ODk6Q0RFRkdISUpTVFVWV1hZWmNkZWZnaGlqc3R1dnd4eXqDhIWGh4iJipKTlJWWl5iZmqKjpKWmp6ipqrKztLW2t7i5usLDxMXGx8jJytLT1NXW19jZ2uHi4%2BTl5ufo6erx8vP09fb3%2BPn6/8QAHwEAAwEBAQEBAQEBAQAAAAAAAAECAwQFBgcICQoL/8QAtREAAgECBAQDBAcFBAQAAQJ3AAECAxEEBSExBhJBUQdhcRMiMoEIFEKRobHBCSMzUvAVYnLRChYkNOEl8RcYGRomJygpKjU2Nzg5OkNERUZHSElKU1RVVldYWVpjZGVmZ2hpanN0dXZ3eHl6goOEhYaHiImKkpOUlZaXmJmaoqOkpaanqKmqsrO0tba3uLm6wsPExcbHyMnK0tPU1dbX2Nna4uPk5ebn6Onq8vP09fb3%2BPn6/9oADAMBAAIRAxEAPwD9/KKKKACiiigAooooAKKKKACiiigAooooAKKKKACiiigAooooAKKKKACiiigAooooAKKKKACiiigAooooAKKKKACiiigAooooAKKKKACiiigAooooAKKKKACiiigAooooAKKKKACiiigAooooAKKKKACiiigAooooAKKKKACiiigAooooAKKKKACiiigAooooAKKKKACiiigAooooAKKKKACiiigAooooAKKKKACiiigAooooAKKKKACiiigAooooAKKKKACiiigAooooAKKKKACiiigAooooAKKKKACiiigAooooAKKKKACiiigAooooAKKKKACiiigAooooAKKKKACiiigAooooAKKKKACvPfjt%2B1J8FP2b5NGsfil4g1Maj4ilnTQNB8OeF9R1zVNR8lVed4bHTbee5kjiVkMkixlI96biu5c%2BhV4N%2B0P8D/j5/wANJ%2BDv2tv2bLLwfrWueH/B2seFNX8KeOdcutLtLywv7mwuxcQXtraXj288U2noCpt3WVJSCUKK1ABpf/BTL9izWLvxPb2nxXv0h8FWsk/jLUrvwXrEFjoIS0iu9l5dy2iwWsrQzRskMjrJIWKorMrKL2n/APBQ/wDZK1HwBrXxFTx/q9vB4f1ay0vVdE1DwNrNrrkV5ebfscC6PNaLqEr3AYGER27eaAxTcFYjy2b9gH4y%2BMf2a/jn8NfGHinwppHin4o/FS38daHc6U1xeWFpeW0OiywQ3IkihkkiN3pRRwoyYHGDuJVaPi79i/8AaV%2BLmr/Ef45fG34S/CjWvFnjWx8KaPp/gKy%2BI2s2Wm6fY6Hcaldw3qa7b6al5DqDXOqTOksVoPJSKNFZiWcgHsviH9vv9mzwv4a8OeI9XvvG3meK0v5NE8P2vwm8SXGuSRWUscV3NJpMWntf28MLzQq8s0CIpmiy37xM%2Bmaz8RPBHhv4e3XxX8T%2BJbbSvDljo76rf6vqrfZYbSySIzPPMZdvlKsYLNvxtAOcYNfGHin9hH9s/WPgX4X8Nay3hfxV470a58RHRfGV/wDHbxNpGr%2BCLW%2BuUktLO11q1sJLzXIYkjhEy3qw/aTbReYCFGPUfjR/wTotfj1%2Bzb4n%2BHHxD%2BOfjW78d%2BMPhfH4Z17xS3jbWho818tpDE2oJoS3y2FuzzQLK3kRRSEPIBIrSM5AOkg/4KUfsZf8K58V/FbWPite6Jo3giysr7xQ/ifwdq%2Bk3NlZXkxhtb37LeWsVxJaSyK6pcxxtC3luQ%2BEYjj/AI3f8FZP2d/hn8ENU%2BMfgPRfFXiqbQfiD4X8L674Y/4QXXbHU7A6zqVrax3T2cmnNdeV5Fw88DeT5d48aW8MhknjB8r1T/gmJ8ZPHfwq8faR4i8DeG9G8Y%2BI9D0fR7DxDqv7RfjPxut3aWusW%2BoTRyf27AfsEZ8likUSzHe%2BGkxknv8A9qH9gz40/GD4g/F/4g%2BBfEPheOTxfB8LbzwlZ6tfXMSvf%2BE/EdzrUsN40dvJ5ENwGt4VljEzrl2MfyKrgHqFh/wUE/Zb1H4m2XwZh8T%2BJo/Fd5oun6xLoF38N9egudO0%2B9adILu/SSyU6dDut5VeS68pYiFEhQum6j4a/wCCmH7FPi3wZ4s%2BIWkfGC4TR/Bfgi68Zaxe6h4S1W0Fx4et0Z5tWsVntUbVLNVQ4nsxPGxZArEugbB0P9kP4ofEP4mfG74g/G9fD2gxfGj4O%2BHfCF1Y%2BE9duNRl0u4tE11Ltlnns7XzYwNViMT7FZikm6OPA3fN37Y37Kn7UOj/ALDHxS%2BJv7TF34AtIfhD%2BxT8QfBHhePwFqF5cNrzXukWxn1G6W5toBYqE0i3CWcbXAVppCZ22oKAPrPw9/wUl/Yy8TaHrHiPT/i1dQWehppU1/JqnhLVbJmtNSu1s7HUIUuLVGubCWdgovoQ9qoDO0qorMPT9E%2BLvw88R/FLX/gvofiH7T4k8LaXp%2Boa/YR2k22zgvmuBa7pinlF3%2ByzHy1cyKoRmVVkjLfJOofsz%2BIPFegeKfjb/wAFIvF/wz8J%2BBbf9nu5%2BHUlx4f8QTLay6beyQyXmq3k17BbpYOTBbCG2QzCAmT/AEiQsuOw/wCCPngP4u2f7I9r8f8A9pDUDf8AxJ%2BL15H4n8V6g9nJbtJCLSCy01fKl%2BeH/iX2lpI0TYKSzTZAYtkA%2BqqKKKACiiigAooooAKKKKACiiigAooooAKKKKACiiigAooooAKKKKACiiigAooooAKKKKACiiigAooooAKKKKACiiigAooooAK8R0j/AIKMfse6ld69Z6n8Urzw83hzw5c%2BINQk8a%2BEdV0GObSbd0jnv7WTUrWBb63R5IlaW2MqAyxjOXXPtN7FczWcsNndCCZ4mWKYx7/LYjhtp64POO9fmJq//BHL9uX4v6t4X1z43fHHQ31vw14P1Cz1DxRqHxW8TeJx4h1v7ZpV9a6idLvoobLSbaS50xfPsLIBRHJtWWQKgUA%2B2X/b/wD2YbX4aN8WNY8QeKtK0ttcg0axs9c%2BGWv2GqanfzIZIYLLTbixS9v2kQM6/Z4ZAyo7AkIxHReA/wBqz4H/ABH1%2By8J%2BHPEOqQ6vf8AhSfxJDpGteFdS0y7TTYbv7JLLLDeW8UkDrP8hhkVZe%2BzbzXk3xO%2BDn7bvxib4e/G3XPBvwq0P4h/Cjx1NrHh/wAM2vjjUr/Rdcs7jSbvTLmO4vn0qGaxmKXskkbpa3AjMQU%2BYJGxV%2BJPwG/bg1/4y%2BHf2mvA%2BjfCu08WX3ww1XwX4x0LUvFepSWGkLcX8N1a39lcJpwk1AxCN1kt5YrQSlxiWLHIB3Gk/wDBRv8AZA8R694F8LeFfiNqus6n8SfBuleLfBunaJ4H1m9nvND1F9lrqMiQWjNa2%2B7HmSTiNbcMpm8oMCdj4a/tufs3fFf4jXPwn8M%2BL9Ws9ft9LudThsvE/gzVtEW/sbeRI57uyl1G1gjv4I3liDy2zSIvmISQGUnyj9hT9hL4sfsw6/8ADjWfHniDw1dnwd%2Byl4R%2BGN%2B%2BkXM8rNq2lvM1zNF5kEe61bemxmKu235o0wK8a%2BGn/BKv9sbxP8UfC/ib9qb4w2eqRaf4A8V%2BF/GniaD4v%2BJNavPEUur2KW39p2umX0Men6EcqWNpaKUXKgTOI1WgD6l8J/8ABRf9kfxrosfirQfHeuf2Hcarpen6f4lvfh/rdrpWoy6lex2VlJaX09mlteQS3M0UYuIJHhBlQs4VgT6X4W%2BLvw88a/EDxT8LvC/iH7XrnguSzj8T2iWkwWxkuoPtEEZlZBG7tCVkKIzMiyRlgokTd8w%2BOPAnxF8K/wDBPbxp8CP%2BChnif4VeCPAWg/DSLQLb4meHfFt2GadI0trXUntLqzgTTZlmFvJDBHcXTGcoiOTtDdr/AMEr/h98WPDf7ImlfFX9oqwS3%2BJ3xYvpfHXxEhW3aL7Pf36xmG02N8yfZbGOys9pyQLXBoA%2BjaKKKACiiigAooooAKKKKACiiigAooooAKKKKACiiigAooooAKKKKACiiigAooooAKKKKACiiigAooooAKKKKACiiigAooooAKKKKACvF/j14/8A2i/%2BGi/AvwI%2BAvjPwV4fTX/BXiXXtX1Pxf4Lu9aJOnXeh28MMMdvqVj5Yb%2B1JWZmZ8%2BWgAXkn2ivCviLrSWX/BSr4Q6LIoxe/BP4hsjZ53R6t4NOPyZj%2BFJtLcuEJVHaPZv7tWX/APhB/wDgoX/0dB8Gf/DD6t/81FH/AAg//BQv/o6D4M/%2BGH1b/wCaivZqKZB4z/wg/wDwUL/6Og%2BDP/hh9W/%2Baij/AIQf/goX/wBHQfBn/wAMPq3/AM1FezUUAeM/8IP/AMFC/wDo6D4M/wDhh9W/%2Baij/hB/%2BChf/R0HwZ/8MPq3/wA1FezUUAeM/wDCD/8ABQv/AKOg%2BDP/AIYfVv8A5qKP%2BEH/AOChf/R0HwZ/8MPq3/zUV7NRQB4z/wAIP/wUL/6Og%2BDP/hh9W/8Amoo/4Qf/AIKF/wDR0HwZ/wDDD6t/81FezUUAeM/8IP8A8FC/%2BjoPgz/4YfVv/moo/wCEH/4KF/8AR0HwZ/8ADD6t/wDNRXs1FAHjP/CD/wDBQv8A6Og%2BDP8A4YfVv/moo/4Qf/goX/0dB8Gf/DD6t/8ANRXs1FAHjP8Awg//AAUL/wCjoPgz/wCGH1b/AOaij/hB/wDgoX/0dB8Gf/DD6t/81FeqeMZ5rXwjqt1bSskkemztG6nBVhGxBHvmvOfG/wC0B%2Bw18LfE9z4D%2BJfxw%2BFPh/W7ARi90jX/ABPptreQb41kTzI5pA6lkdXBYcqwPIINZ1a1GjHmqSUV5tL82jswWXZjmdV0sHRnVkldqEJzaW17QhN2u1ra2q11KP8Awg//AAUL/wCjoPgz/wCGH1b/AOaij/hB/wDgoX/0dB8Gf/DD6t/81FV/%2BGv/APgnB/0dF8Ef/C20f/47R/w1/wD8E4P%2Bjovgj/4W2j//AB2sPr%2BA/wCf0P8AwOH/AMkep/qlxZ/0LsR/4T1//lBY/wCEH/4KF/8AR0HwZ/8ADD6t/wDNRR/wg/8AwUL/AOjoPgz/AOGH1b/5qK9C8V6R8PvCHhbUvFmoeB7Sa30vT5rueKy0T7RM6RoXZY4oo2eRyFICIrMxwACSBXhXwM/b4/Y6%2BN3hf4YX1r4F17Stf%2BKvhy31nw/4VvPhTq7XS27/AGNZZ3K2G0WkUl9bo18SLUh94l2ZYdZ8%2Bdn/AMIP/wAFC/8Ao6D4M/8Ahh9W/wDmoo/4Qf8A4KF/9HQfBn/ww%2Brf/NRWVP8AtX/ssXuh6hqGgaLDa3uk694c07UdL8aeBdW0C4jXWdVi02znWG607z5I5ZnkSKVYjA8sTI80KrJLHY%2BHn7W/7EPxS8b3vw/8Ia3Ym%2BsG1pZbnU/Bd7YWEr6Rdm01NIb26tY7a4a2mUrKsUrlAN5Gz5qALv8Awg//AAUL/wCjoPgz/wCGH1b/AOaij/hB/wDgoX/0dB8Gf/DD6t/81FT/ALQnxM8FfCL4c6J4o%2BH/AMK/D/i3WPF/iHTdE8G6b9pitLTULq9cbJJLtIZvKt0hEtw8iRyt5cTbEdiqmL4JfEWy%2BNnwO1fx7pnwE0Oz8X6HqWtaLqPhCS%2Bja3Gs6dcz2rwJe/Z13W8skKtHcGFW8qZHaJW3RgAb/wAIP/wUL/6Og%2BDP/hh9W/8Amoo/4Qf/AIKF/wDR0HwZ/wDDD6t/81FeOfE39vA/Bj4feNb34pfs1fDTR/FPgb4geGvDOsJc/EYR%2BGoV1k2piupdXk0pJIBDHch5Y3swVGwglZVetv4wftp%2BBPhTofw60qbwb8ED4n%2BIWi3mr21zrHxXh0/wrFZW0ltGXh1p9NZ7qSV721WGNLQGTMrZVYixAPSP%2BEH/AOChf/R0HwZ/8MPq3/zUUf8ACD/8FC/%2BjoPgz/4YfVv/AJqK5z4o/tOeBfh7%2B1F8Lv2YNM%2BA%2Bl6zd%2BOdTay8Vazb3ESQeFnfSdT1CzUjyCbuS4/sm7UIDHsSPzXI3RJJyfiT9vP4eaX46%2BM2h%2BHP2XxrmhfCb4fzeIbLXdOaJn8S3NtcXVteWtvAIDsiguLWSBrguxMkVwBFtiV5QD0//hB/%2BChf/R0HwZ/8MPq3/wA1FH/CD/8ABQv/AKOg%2BDP/AIYfVv8A5qK8J0f/AIKb/CK%2B%2BDV18Qrn4a/CSS7l%2BJMfg3w5rulfE%2B2uPBWq3B0k6tLdDxC9hGI7e3to7lJmFq5We3MKiR2FdN4u/bO07wx8Yfhj8FT8MfgRFqPxD8I/24mpav8AGFbSwuD9rht1ttIlGkOdXkdZhKny2%2B5QOBnIAPUP%2BEH/AOChf/R0HwZ/8MPq3/zUUf8ACD/8FC/%2BjoPgz/4YfVv/AJqK5Xw5%2B1L8O/HX7YOrfsu%2BCvA3wwMXhzUTp%2Btya344gs9fubhbCO8kk07Rls5GvbaITwxyTvPAA4nCq3lZfL%2BGf7T3iH4mfE74g/Abw7%2Bzr8KNY8aeCNLtroweEviZ/aWl29xLdSW50/Vbv%2ByY5NLvFEbTeQIJ2MasRyAGAO%2B/4Qf/AIKF/wDR0HwZ/wDDD6t/81FH/CD/APBQv/o6D4M/%2BGH1b/5qK80039r/AFjxFa2nw88K/sl%2BD7v4oXHxJ1TwfL4ek8X7NCSTTtP%2B33V6uqrprSvAsTxQ4FmJBdSGFkUI8i4/g3/goR4D%2BJnxm%2BHfwq8HfB34X6QPHXgTR/Ejx/EH4hxaPqiyXd9eWlxpthZR6dcDUrq2ayl3Ks0SszIAwU76APY/%2BEH/AOChf/R0HwZ/8MPq3/zUUf8ACD/8FC/%2BjoPgz/4YfVv/AJqK5/V/i18RfDf7Y/hH9mnXf2Wvh5JoXjC01vUrXxHpPjWafUbLS9OjhBvLjT30eOJN9zd2NvsW7babncGcIQeW079sG70z4EeO/iL8TP2TvC2j%2BKvBvxW03wDF4Z0/xUl3Y3V/qM%2BkwWc0uoPYQm3h8zV4POYQSeWsUhQTHarAHpP/AAg//BQv/o6D4M/%2BGH1b/wCaiqHgfxx%2B1Z4O/as8OfBH43fEf4e%2BJtG8TfD3xDrkM3hX4eX2i3VpdabfaJborPcavfJLG6apKSoRGDRIQ2Mgy/A34s%2BGfjf8NPG2oXHw70Dw/wCLPAHiPUfDviey8P6it/b2OqWsMc4%2Bz3nkQPKpint3y0UTqzsjIGQ1a8cf8pC/hf8A9kZ8ef8Ap28IUAezUUUUAFFFFABRRRQAV84/CbxV%2B3f8ddH17x34X%2BN/wk0DS7f4heKtD0vSr/4P6pf3EVrpevX%2BmQtLcJ4igWWR47NXZlijXc5AUACvo6vGf2D/APkiGuf9lm%2BI/wD6mut0AH/CD/8ABQv/AKOg%2BDP/AIYfVv8A5qKP%2BEH/AOChf/R0HwZ/8MPq3/zUV7NRQB4z/wAIP/wUL/6Og%2BDP/hh9W/8Amoo/4Qf/AIKF/wDR0HwZ/wDDD6t/81FezUUAeM/8IP8A8FC/%2BjoPgz/4YfVv/moo/wCEH/4KF/8AR0HwZ/8ADD6t/wDNRXs1FAHjP/CD/wDBQv8A6Og%2BDP8A4YfVv/moo/4Qf/goX/0dB8Gf/DD6t/8ANRXs1FAHjP8Awg//AAUL/wCjoPgz/wCGH1b/AOaij/hB/wDgoX/0dB8Gf/DD6t/81FezUUAeM/8ACD/8FC/%2BjoPgz/4YfVv/AJqKP%2BEH/wCChf8A0dB8Gf8Aww%2Brf/NRXs1FAHjP/CD/APBQv/o6D4M/%2BGH1b/5qKP8AhB/%2BChf/AEdB8Gf/AAw%2Brf8AzUV7NRQB4z/wg/8AwUL/AOjoPgz/AOGH1b/5qKP%2BEH/4KF/9HQfBn/ww%2Brf/ADUV7NRQB4z/AMIP/wAFC/8Ao6D4M/8Ahh9W/wDmoo/4Qf8A4KF/9HQfBn/ww%2Brf/NRXs1FAHjP/AAg//BQv/o6D4M/%2BGH1b/wCaij/hB/8AgoX/ANHQfBn/AMMPq3/zUV7NRQB4z/wg/wDwUL/6Og%2BDP/hh9W/%2Baij/AIQf/goX/wBHQfBn/wAMPq3/AM1FezUUAeM/8IP/AMFC/wDo6D4M/wDhh9W/%2Baij/hB/%2BChf/R0HwZ/8MPq3/wA1FezUUAeM/wDCD/8ABQv/AKOg%2BDP/AIYfVv8A5qKP%2BEH/AOChf/R0HwZ/8MPq3/zUV7KzKil3YAAZJJ6Vl3XjrwRZSmC98Y6VC46pLqESkfgWpOUY7smUox3djy7/AIQf/goX/wBHQfBn/wAMPq3/AM1FH/CD/wDBQv8A6Og%2BDP8A4YfVv/mor0i8%2BKnww0%2BLz7/4j6DAg6vNrECj8y1c3rf7W37KnhpDJ4j/AGmvh9p6r943vjOxiA/76lFZSxGHh8U0vVpfm0ZTxWFpq86kV6yivzkjm/8AhB/%2BChf/AEdB8Gf/AAw%2Brf8AzUUf8IP/AMFC/wDo6D4M/wDhh9W/%2BaiszxN/wVC/4J5%2BE0Z9U/bD8CShev8AZmuJen8Bb781xF3/AMFw/wDgl5Z3DWz/ALTqyMhwWg8HazIv4MtmQfwNclTOMopO08RBf9vx/wA2cFTP8iou08VTX/cSH/yTPSv%2BEH/4KF/9HQfBn/ww%2Brf/ADUUf8IP/wAFC/8Ao6D4M/8Ahh9W/wDmorzD/h%2BP/wAEyJeLH9oO8uW/uQeBtaJ/W0FZ%2Bvf8Fvf2RfIP/CrvBPxO8eXGMfZ/DPgK5XYe29rryQo9TzgVk8%2ByVK/1iD9JX/BXf4EQ4hyKrJRp4mE5PZRfO36RgpyfyTPX/wDhB/8AgoX/ANHQfBn/AMMPq3/zUUf8IP8A8FC/%2BjoPgz/4YfVv/mor5u1f/gsN8c78GXwl%2Bxt4V0m0b/V33j/9oLQNIkQer2zsZAfbNcvq3/BXv9prTczz3n7LMKnkQJ8bo7p09iYCwJ%2Blc0%2BJsoh9qT/7df6uP5HuYbB59jdcJleNqrvDBYpr7/YJH1z/AMIP/wAFC/8Ao6D4M/8Ahh9W/wDmoo/4Qf8A4KF/9HQfBn/ww%2Brf/NRXw7rP/Bf34r/D/dP4m%2BGPwh8UIvPk%2BEfiZNG/0zLbOCai03/g5Q8QeKCLTwR/wT91fVrn7rx2fjZpgregMWnsW/IVz/648PJ8sqrT7csr/gpHrrhXjj2fPLI8el54HFJff7K34o%2B5/wDhB/8AgoX/ANHQfBn/AMMPq3/zUVb/AGVviN8afGGsfFDwJ8dNf8L6tqngH4hRaHZ6r4T8NXOk291ay6Do%2Bpqz29xe3jLIsmoyoWEu0rGh2qc5%2BLrH/gtP%2B334nAk8G/8ABI3xpdo/3Ghi1WdcepZdOUY969//AOCVPxW%2BKnxv0r42/FD42fCC68BeJ9U%2BM0Z1LwnerIJbDy/Cnh2KPcJVV/nijjk5UcSDtXo4DO8BmVV06Dk2lfWE4r75RS67XPOr5fm2D1xeErUV3qU3DXtrJu/lyrZn1bRRRXrHMFFFFABRRRQAUUUUAFFFFABRRRQAUUUUAFFFFABRRRQAUUUUAYHxS%2BJvhL4N%2BAtR%2BJfjp9SXStKjR7s6RoV3qdyQzrGojtbOKWeZizKNscbHnOMAmsyz%2BPvwt1T4F6d%2B0lous32o%2BENX0C01rSr7TNBvbq4vLK6jjkt3is4oWuXd1ljxEIjJlsbc5FX/AIua14g8P/DTWtV8K/DzV/FeopYstp4e0G4soru8Z8Jtje%2BuLe3UgMWPmSoMKcEnCnwP9mPxF%2B1H8DP%2BCcfg3wPD%2BxX4qn%2BI3gD4Q6ZpVt4O1LxR4fhj1TVrK0htBbrdw6jNFHG7oZRKxGIgcgSYiIB7j8Gvjn8M/j74bu/FPwx1m7uIdO1OTTdUtNU0W70290%2B8jVHa3ubS9iiuLaTZJG4SWNSUlRwCrqT4X%2B0LrX9l/wDBWj9max34/tL4Y/Ey2x64k8MTY/8AIX6V2n7BngXxv4O%2BE2rav8XPAHifRfHPifxTPrPjm88VNpYl1jUpLe3jNzBHpl9ewwWkcMUFnBE0plSGyQPvP72T5%2B/al0XxJ4G/4Lafsl%2BINY%2BLfiDXLDxFo3xJhs9E1W305LXRF/s/Sj5dq1taQzOrts3faZZ2HlrtK/Nu5cZP2dDm84/jKK/U93hvDfW809l3p13/AOA0K0v/AG0%2B76KKK6jwgooooAKKKKACiiigAooooAKKKKACiiigDL8c/wDIk6x/2Crj/wBFtXIeOf2Rf2UPih4puvHPxL/Zh%2BHniLW77Z9t1jXfBVhd3VxsRY03yyxM77URUGScKoA4Arr/ABz/AMiTrH/YKuP/AEW1eGfHP/gq1%2BwN%2BzX8U9U%2BCnxr%2BPX9i%2BJtF8j%2B09M/4RbVbnyfOgjnj/eQWrxtmKWNvlY43YOCCBx42rl9GkpYxwUb/b5bX/7eTV9/MqOf1OHX9Zhi3hm/d5lUlSbvry80Zwbva9r20vbTTrv%2BGB/2Ff8Aoyz4S/8AhudM/wDjFH/DA/7Cv/Rlnwl/8Nzpn/xivJP%2BH5v/AASy/wCjov8Ayydc/wDkKj/h%2Bb/wSy/6Oi/8snXP/kKvL%2BvcK/8APyh/5T/yL/4ilif%2Bh7P/AMLKv/zQfV99Zw6jYzafc58ueJo5NpwdrDB/nXzp%2Bzf%2Bwj4z%2BCo8DL4v%2BPFrrTeAPg3c/DjRbnQvCb6XO2ns%2BnfZ7p3e9uR9qjXTxuZQqO8oZUiCbG%2BhPEGqzaFoN9rdvo15qUlnZyzpp2nqhuLoohYRRB2VS7Y2ruZRkjJA5rwq/wD%2BCkHwJHgK5%2BJPhrSdX1fSrT4baB43ubwX%2BladBDp2szyxWMclzqd9bW8M7CCeRkklVVWL7xZ40f6AyPHPg3/wRqf4WpfyXHxo8KJcX1v4BguZvCvwqXSTft4Z8RJrX22%2Bb7fNJe397sMM1y7jBIkCHBjb2P4f/sO6h8Ob/wAE6xo3xXglu/BPirx1rlqbjw6THcyeIr%2B9vFjdVuQQtu12FJDZmEef3W75fO/FP/BVjwprXg/SPjN8I2tpfA198EPiR4w1G7l06LVL601HwxquiaeYI1ttQS1uoxJfXwYR3PlzmKForlYzvfrfHf8AwUDu1/aD8D/Bz4YfCXXLnRNa%2BMNx4H13x5qdhAdJlubbSNQvLq1tDHdi5WeKa0SMyy24tyY541dnAwAenftCfAnxH8cfhzomlad4%2Bs9D8XeGfEOm6/oPiP8AsNrm0h1K0cEmSz%2B0I0lvKjTQvEJ1cRzttlVwHGN8Lv2dfi38Hfg3qngPwV8bdHHiXXD4k1bVvFd94LeVW8R6ndPdQ3sVqL1VSztpJZFFmzu8kSQqblWR3lvftJ/tDal8K/2arn4y/DzQTc6pqN5pOl%2BGbPxHp1zZKt/qmo22m2jXUEqxzxxpPdxPIhCPsVgNpwRX/Zf%2BL3xV%2BILfEf4a/FqXw9deLvhp42/4R%2B91jw7pc9jp2qCbSdO1W3uUtpri4kt/3WpRxPGZpDvgdg21lAAOV/Z8/ZW/aZ/Z5%2BA0vww8P/tBfDvUPEj6yNSl8Yah8Jr921S6l3Ne3eoxNrxkurueQh/OSeFIwoRY/LVEXkZf%2BCYuraH4O8PD4e/GXQLTxfp2j%2BNdK1vXde%2BHa6hYXlp4p1RdU1SO2sEvYfsmy5RBbgzTJHDvjkWfeXqn42/ay/bQ%2BHWmfGbwLa2/gn4geLfh54X8P6jp%2BqeB/h3qzW1rqGoXUyS6VcabHqFxcXlxDaxw3YWCeORo7qLdFGHjaRPiD%2B2p8dtO%2BDPgHxd8LviJoHiObVPiJf6F8RfFWnfs6eKbxfDNtb6ZfXIW48PQX51GzmFxDZwO1xKFUXIcoodaANyX/gkz8AtM%2BIHwx%2BI/gnxp460q/wDh/wCL9O13VB/wsPXWg8QvY%2BHZtDg821jv47SGYxG0MkyQEyxWz27q0dxIKxdQ/wCCN/wQ0q98VxfCn4n%2BOPDmleIPhMvgnTdGvfG%2Bt61b6Wq3Ms4mEeo6hNFLB86J9kMYQKJNrL5z0fEn/goymnfGTw18LfB3xw8DWGjL8OfD3jDxD4/uvh7q%2BtaZq9pq93dW1s1u1jdrFo9s32GZze3s8sSfabdQJCHatzxT%2B3R8U2/a/n%2BFHww%2BG2n6/wCBbDwP4slF1Ekp1LXfEminTzNZWTh/KEEbXotXYo7NdLNGPL%2BzMJQBtz/wTy8ea1rUnxn8TfG7wtdfFOH4mWPjTR9bg%2BG8kegWd3a6HNoaI2lNqTTS7rK5uN0hvRJ5phdSqwJHR4j/AOCevxJ1X9lo/sb6V8f/AA7a%2BCtf0rUrXx7NcfDh5dTu5NRv7m8vJNMmXUUh0tQ11ItujwXX2YJEVZigJ5/9k39uX40ftVXfiP4ReCvjF8JdV8Y23gbw94osvE2heE9Qm0jRjfXNzFe6Re2p1LzZry1FsM4uLdiblBJDBsxJJ4C/bN/an%2BN2j%2BCfhx8KLj4dQ%2BLvFF/4znt/HOo%2BHb%2B48P6vo2gXsNmt9Z2SX0c6reS3tnsY3UqIglkRrhTHuAOz1L9gGSf9oS6%2BJmj/ABL0yw8J6n8UrP4i6r4ci8I51SXX7bTItPUx6n9qCx2rpBE7xG2aRiZkEyxyeWsWvfshftY%2BKNQ8WfEu/wD2xPDek/EXVfh8fCXhbxT4X%2BFUlraaNA90txJeT2c%2BqztfXQIxCxmiihLORE29w3jc3/BXrxROfBPxJ1FfB3hXw/4k8P8AgDVLXwFrtjc3HiDxLB4ikgjurjTLhLiOMRacbj94Bb3G420m97dZI3r0n4d/th/tH%2BOviNpDfY/BMPhb4j%2BJvGvhj4d2p0i8%2B3aVqOhy3sdvc6hP9qKXdvdLpt3K0UUVu8AaKPfKSzgA1fDn7CvxW8F/Cr4eaB4F%2BM/gjQ/F/wALtbvLnwtrenfDW9bTJ7S8tJbe7gv7KfWpLm7mmkne6e6%2B2pI86xu4b96JU8QfsBeOdQ%2BBPhb9k7RPjpotv8OdK0rSbfxKL7wG1x4g1W5tLwXct3DqC30cFm80qhv%2BPOUwsztGykpstfCr4xftafEm6%2BJ/wstfiR8L5db%2BH3iKwsB8SLfwLqA0SRpLRbi8sn046sZDdWwaMOy32wfaE3BXjeOvL9Z/4KCftLXHwm%2BFvxPjuPDXhnw74ltvF8/iz4jD4O%2BIPE%2Bji00vUYrbTNUjh0%2B9ifTrHULQyX6zXMzxxwlQZGAMjAH0/wCHvgP/AGZ%2B074m/aX1vxV/aFzq/hLTPDmhaX9h8tdGs7ae6uJysm9vNe5muEZ22p8trAuDs3Hy/wCGf7Hv7RXhbwv8X/D/AMR/jh8LfFv/AAtPxC2tJaXvwVuxp1ncSW1razQ3VrNrk3262eC0jHl74WDM7F2BCLpfG747fHb4XfFr4e3fhnxh4A8QeEvH/i/TdD0jwhaeH7s63fW80Jku9Sgv1vjB5VtEsl00f2VlMEJHnBnWrHgX4zftBaV%2B2WP2cPiT4g8EeJNO1HwTqPiVj4S8OXlhdeFYor%2B1t7GC%2BkmvbhLr7Wk135cipbEtps5WN13GIAvfs8fss%2BHv2TfgB4o8G6RNpE19rt5qGt69N4e8OR6PpxupLdIUjtLGN5FtLeK3t7aCOPzJGCQgs7uWYyeOP%2BUhfwv/AOyM%2BPP/AE7eEK9S8c/8iTrH/YKuP/RbV5b44/5SF/C//sjPjz/07eEKAPZqKKKACiiuO%2BPHxs8Nfs/fDqX4ieJtI1PVN2pWOmaZouiQxyXuqahe3UVpaWkCyyRx%2BZJPNGu6R0jQEu7oiswAOxorx2H9tj4ZL%2Bzvqv7QureE/Eunromvt4f1XwfdWdu2sQa3/aCadHpmyKd4GmlupYY43WYwOJ45BL5bb6g0z9se88R%2BEtQ1bwX%2Byz8Stb8Q6D4mk0LxZ4EsG0NdU0G7W0hvR9pkm1SOyZXtrq0mQw3MpdbqPAzuCgHtNeM/sH/8kQ1z/ss3xH/9TXW69C%2BDnxY8GfHj4S%2BGfjZ8Or2a40DxboNpq%2BjTXFu0Uj21xEssZeNvmRtrDKnkHIPSvPf2D/8AkiGuf9lm%2BI//AKmut0AezUUUUAFFFFABRRRQAUUUUAFFFcz8TvjP8Ifgpov/AAkfxg%2BKHh/wvYnO261/V4bRHI7KZWG4%2Bwyamc4U4uU2kl1bsvvdiKlSnSg5zaSW7bSX3tpfidNRXynr/wDwWX/Yq/tWTw38IL/xj8UdWiOH0v4a%2BCrzUZM9sOyxxtn/AGXNVR/wUW/aj8XHPwi/4JS/F29Df6s%2BMryy8Pkj385n215jzvK72hU5v8KlP/0mMl%2BJ5D4iya9oVed/3FKf/pEJL/yY%2BtqK%2BSW/aS/4K4%2BJh5Wgf8E2PCfhppOI5vEnxgtLxY/9pltUBI7kDmsrxT8Mf%2BCoHi3S21r9o7/goB8Nfg7or/8AH1bfD3w0svyf3Be6o6tE2P4lzyOOKmWbxavSo1JeseRfN1HFIqnm9TFVFTwmFrVZPZKm43f/AG%2B4/hFvyPsDWte0Lw3YNqviLWrSwtUOHub25WKNfqzEAV5t4x/bl/Yw8AQyS%2BMP2rvh3YtECWgk8Y2ZmP0iWQux9gCa%2BI/E/gT/AIIc/D7VP%2BEi/as/bMuvjNr0Od2peLfH174heNj94LDpuUUdgpVsdO1bHhH9ob/gkLo0sc/7Ov8AwTf8QePp0INpc%2BEvgKb2QnsUkvERh9c5rzqme1ea3PRg%2BzqSqS%2B6nF/hc%2B0wnhz4yZnRVehks6dN7SqqpFfOUlh6f/k9vM9o1L/gs9%2BxTe6hJpHwiuPG/wASruFts1v8P/Ad9elD6bpEjRvqrEVF/wAPOPix4k/5Jn/wS%2B/aBvt3%2BrfxH4bg0dG98yytge9V9L/be/bM1mwj0v4Bf8EjfGMVii7bdfF/ivTfDiQr6%2BS4Yj/dHNWP%2BFg/8FpvGX/Ivfs9fAvwYH6f8JX4sv8AUWQe/wBiABNR9fxtXatN/wDXvDu3ydRo6f8AiFPG8dcwzXBYbunXwia%2BSq4ma%2BcQ/wCGs/8AgqT4p%2BXwd/wSxtNIib/V3vin4w6cPzhhTePzpDq3/Bbjxn%2B6svCX7PHgyCT78uoX%2BrajcxD/AGREBGx%2BvFK3wQ/4LDeNx5Pin9t74aeCkk/1j%2BDPhwdQaMf7P29xn6mhf%2BCXnjvxmftPx2/4KQfHjxFKf9Za6D4mj0Syk9c28EbD/wAe4o5MzrbKu/WdKkvwjJh/xDjIMPrmfFcX5UIVqz%2B%2BnhqEP/JyG7/ZT/4KY%2BJ7d9T%2BKn/BU618O2qrmax8HfDCwhjjHci5nfzB%2BIrzrxn8Af2c9BZo/wBoz/guR8R3YZ87ToPjLp%2BkJL6qYIwWYewr1C0/4Ip/sBXVyl94%2B8B%2BJPGFyjbhceKfHWp3BLepCTop/EYr0XwZ/wAE4P2CfAIT/hG/2Qvh%2BHj%2B5Nf%2BGYLyRfcPcK7A%2B%2BaP7JxtX4qUf%2B361af4R5F%2Bgf6peDOH/wB4xmPxT8oQpp/Otip/%2BkL0PhnxR4f/AODeDQ5T/wALI/aE1zxjf5wLy48W%2BItSmc%2BgazG05rIHhP8A4IZ6r83w/wD2S/jf4sU/cfw7p3iWQP8ATzLlK/U/wt8Ofh74HiEHgrwJo2joBgJpelxW4A%2Bkaitmj/Vvn%2BKNFelG/wCM5u4f2d4IUP4eQVar71cTTjf1VLCt/wDk7PyXHwD/AOCfXiNhD4G/4Ip/tOa42cx/8JCmq6dasex8yTUj%2BorUtP2GLjxHF5Hw/wD%2BCBGi6Tbt/q7/AMafHQ7v%2BBQpKZB%2BdfqpRTXCuFfxyX/btKjH/wBtmyo4nwxwv%2B6cJ4S/erUxNb8OaivvTR%2BWlp/wSK/aN8Qzefpv7FH7KvhKFuo1TWfEmp3CfQLN5RP1FdHov/BEP433TCTUPiX8CfDWeq6N8ArHVgv0/tFjn8a/SiitY8J5OviUn80v/SYRNYcT5fhn/sWR5ZR/w4ChN/fWde/zR8HeGf8Agip4k0ple/8A20r6yYdW8FfC3QtCx/u/Z4jt/Cu4s/8Agkfoslutv4l/b6/aV1KMDH2T/hZ/kWw/3YooAF/A19c0V10%2BHsnpqypf%2BTT/APk1%2BR30/ErjDDK2Eq0qC7UsLg6X/pGD0%2BTPkv8A4cvfsd6nx451v4k%2BJwfvrr/xI1CQN9fLdK0tE/4Ivf8ABMnQSGtP2WNPmYHJa/17Urkk%2Bp825avqKitVkeTJ3%2Brw%2BcU/zuVU8U/EqpHl/tjEpdo1pQX3U/Zr8DwvRv8AgmT/AME%2BdCAFj%2Bx34Afb0%2B2%2BHYbn/wBGhs11WkfsZ/sf%2BH8f2D%2Byn8NrLb0%2ByeBtPjx/3zCK9Korqhl%2BX0/howX/AG7H/wCRPExPF/F2M/j5jiJ%2Bteu/zrW/A57R/hH8KPD2P%2BEf%2BGPh6xx0%2Bx6LBFj/AL5QVvxxRwoIoY1RVGAqjAFOorpjCEFaKS9FY8OticTiZc1acpP%2B9Jy/NsK8Z/Zf/wCS3/tHf9lmsf8A1CvC9ezV4z%2By/wD8lv8A2jv%2ByzWP/qFeF6oxPZqKKKACiiigAooooAKKKKACiiigAooooAKKKKACiiigAooooAKKKKACiiigAr4L/wCCl%2Bq/2F/wVW/Yf1Xdt3ar4wtc/wDXf%2Bw4sf8Aj1felfnX/wAFj7yXSP8AgoH%2BxP4gQ4Sy8eai1w392J9U8Nxsf/H68zOZcmWzl25X/wCT0z7jw3orE8aYWi/tqtH78Li/1SP0Uooor0z4cKKKKACiiigAooooAKKKKACiiigAooooAy/HP/Ik6x/2Crj/ANFtWpTZ4IbmF7e4iV45FKujDIYEYII9KzF8GaMihI7jU1UDCqmt3QAHoAJOKANWisv/AIQ/Sf8An71X/wAHl3/8do/4Q/Sf%2BfvVf/B5d/8Ax2gDUr5u0L/gl78CvCXgTxL4K8GeO/GelT%2BIPihD46sddhvbKa70C%2Bt5Y5LW0sluLSS3Flb7GWK3mhmCiWQ5LEMPff8AhD9J/wCfvVf/AAeXf/x2j/hD9J/5%2B9V/8Hl3/wDHaAPngf8ABKv4Ez/Du9%2BHesfEvx9qKal4T8faBqOrX2q2b3lzF4v1W01TVbhmFoE89bizj8khAiI7qySfKV6Kb/gn78O2%2BN%2BlfGK2%2BLXju2sNF%2BIdz4407wHBf2Q0WLXbmxubO5usG0N0wlW7uJGiNwYhLI0iopJz7L/wh%2Bk/8/eq/wDg8u//AI7R/wAIfpP/AD96r/4PLv8A%2BO0Ac58S/gToHxi%2BCF58DviT4p1nU4L6zijl18SQW%2BopcwyJNBeo0EKQx3EU0ccyFYggeNTsI4OV8IP2aLf4NaZfx6P8Y/F2p6vr3ia417xh4l1hdNe98RXklilihuRFZRwxrDBBZrGttFAB9ihDblMiydx/wh%2Bk/wDP3qv/AIPLv/47R/wh%2Bk/8/eq/%2BDy7/wDjtAHjHwD/AGF9S/Z0%2BFWs/CrwR%2B2L8VbtNXuGvBr%2Br23hqXUra/kuDcXN95y6MouridiRI92s4KnChcAjQ0T9jW98IeDb/wAP%2BAv2q/iZoWta94luNd8XeNLNdCm1PX7yW3htszrc6XLaxKkNvbxoLaCDYsCAfxbvV/8AhD9J/wCfvVf/AAeXf/x2j/hD9J/5%2B9V/8Hl3/wDHaAPCfEn/AATK%2BA2reEtL%2BHfhrxb4v8N%2BHIPh/pvgfxJoei6hbNH4q8PWLzPbafqEt1bzTlVN1eAy28kEzC9nDSHcMbj/APBOn9ji1/aV0f8Aa28MfAPwnoPjnR49Zb%2B2dB8KadbTXt3qTQtPf3Eq2/my3SmJ9kxcEfarjdu8w49a/wCEP0n/AJ%2B9V/8AB5d//HaP%2BEP0n/n71X/weXf/AMdoA8O8W/8ABPTRPH3w38d%2BDfGv7UPxT1DXviJpOn6Pr/xC%2B16Pb6ymkWk0kqabALfTY7OK3c3F2smLYySLdyhnJ2FNHXf2GrPXPBPhPQE/aU%2BIem694JS7tvDnjnRLfQbHUrXTrmFYZtNWKDS1sRbFI4cBbUOjW8TK6sgNewf8IfpP/P3qv/g8u/8A47R/wh%2Bk/wDP3qv/AIPLv/47QB5ZffsR%2BA7qw8EeA7T4jeK7L4deArLRING%2BFdnJYLosraRJHJp8s0jWhvnMTw2zeWLpYXNtHvjYFw%2Bdpf7APgLQfG%2BreNPD/wAYfHlis/8AwkVx4U0i3vbD7J4P1HXJHl1HUtNDWZk%2B0vLJNIn2p7mKIzyrHGiOyH2T/hD9J/5%2B9V/8Hl3/APHaP%2BEP0n/n71X/AMHl3/8AHaAPnm1/4Jk%2BHbf9ki7/AGL3/aw%2BKsnhK7ktt1x5fhyO9MEcxmuLaV49HVLuO8kZjdm5SaS53yB3IllD9v41/ZO8WeOfhVp/wj1H9sT4n2ljDp97p%2BtXul2nhy2udctLjA8mcpo4S3EceYo3s0tnCsSWZwHHp/8Awh%2Bk/wDP3qv/AIPLv/47R/wh%2Bk/8/eq/%2BDy7/wDjtAHjulfsIeHvDH7RWm/tDeCfj5490b%2Bx/DWn%2BHNK8G28ei3GkWWj2uwmxg%2B16bLd28c7Ro07RXKSSmOLLgQwiPQ/Z5/Y5X9nf4leLviRp37R3xA8THxvrd1q2vaX4qh0SSKW7lZRGwnttMhvClvEiW8ETTtHHCqoFO0Eepf8IfpP/P3qv/g8u/8A47R/wh%2Bk/wDP3qv/AIPLv/47QAnjn/kSdY/7Bdx/6LavLvHH/KQv4X/9kZ8ef%2BnbwhXqJ8GaG%2BFna%2BmTIJiuNWuZEb2ZWkKsPYgivLvHH/KQv4X/APZGfHn/AKdvCFAHs1FFFABXl/7W/wAG/Gfxn%2BGFhY/DW80yLxN4a8YaL4l0CPW55IrK6uNPv4bk2s8kUcjxJNGkkPmrHIYjIJAkmzY3qFFAHzb4O/Zg%2BK6/An4i%2BB/i58M/AXifU/iNrmoeJtV0UeM7%2B309NRnuE8ixS6TT/Pijgt7e0K6gkYm%2B0I0i28WFx5tbfsN/tgfDP4BeKfA/wKn8I2Gt/Fr4nnX/AIoQ3nxV1szWWkf2Zaae1jp%2BuT6fdXk93NFp9uJL6eFJE%2B0XDRCNhC0f23RQBxfhf4W6bcfAXSvg9rvhKDwlZweHrbTX0LwF4ovLaHSYoo1RbeyvrdbS4SONUCJIiwttUfKvSvP/APgnT4esPCX7N194W0q4vpbbTvi38Q7a3l1PVJ725dE8Z60oMtxcO807kDmSR2djksxJJr3SvGf2D/8AkiGuf9lm%2BI//AKmut0AezUUUUAFFFFABRXA/tH/tO/BP9k74cT/FH45%2BNrfR9Njby7WI/Pc30%2BPlgt4V%2BaaQ/wB1RwMkkKCR88L8e/8Agpl%2B1%2Boi/Zt%2BBFl8EPCFyPk8cfFaEXGtTRHpJb6UmRE/QgTlkYdGrgxOZYfDVPZK86m/LFc0vV9Irzk4r1PMxmbYXCVfYpOdW1%2BSC5pW6N7KKfecortc%2Bnviz8afhJ8CPCcvjr4zfEfRvDOkRcG%2B1m/SBGbGdibjl3PZFBY9ga%2BaJ/8AgqL4s%2BOtw%2Bif8E%2BP2SfF/wAUAXKL4z1mE6F4cjOcFhc3QDzFeSYwqsR0JzW/8Jf%2BCVHwG8P%2BLYvi3%2B0j4h1v41%2BPFwx8R/Ee4%2B1QWzZzttrEkwQRggFVIcoR8rCvU/2hP2t/2Zv2Q/DEerfHL4p6P4ch8n/iX6WX33dyo4CwWsQMsg4A%2BVSB3IrjqzzGdN1K9SOHprzUpfOUrQj8lJ%2BbLy7KeLuJsZDCYSm4zm7Rp0outWl90XFPvywlbdyW54d/wzR/wVE/aB/e/tC/tr6L8NNJm/13hn4LaE32jaeg/tK7/fROB1KBlJ6dq6DwD/wSh/YO%2BFF7L8RvH/gN/HOtRJ5l/wCLPitrL6xM4XnfILg%2BQMcncIxj1rll/aG/4KJftpOLf9lH4QR/BjwPOfl%2BJPxR08S6tdRH/lpZaVyF4wVaclHU5BU1oaf/AMEi/hf49vYte/bH%2BPXxG%2BNN%2BjiQ2finxHLa6TFIOcw2NqyLGM87S7L7V59OjQxElPD4eVZ9J1pPl9Uppt%2BsaUV2Z93Hwq4VyOanxTmEY1lq6UU8biI%2BUkprC0Zf3ZVHKP2orY0PF/8AwVE/Ye%2BD9%2Bnwi%2BBIvPiHr0OVtfBnwZ8Of2mwxxw0AW3UA8EB8j0rLHx8/wCCsPx1%2BX4Mfsd%2BD/hZpkv%2Bq1v4teJmu7l0/vCysRvif0WTIz14r6V%2BF/wb%2BE3wS8Or4S%2BD/wANdD8MaauP9C0LS4rVGI/iYRqN7erHJPc10teosFmNZfv6/Kv5aaUV/wCBSUpfconrriPgrJ1yZPk8arW1TGTdV%2BqoUXQw8fRyq%2BbZ8j/8MG/tr/Fj97%2B0r/wU58ZxW8vL6L8KNFtvDqQjugulDyyD3Zc1p%2BF/%2BCNn7BOk6mviPxz8NdV8d6wPvav488UXupSyf7yNIIm/74r6loqo5Jll%2BapT533m3N/%2BTNr7kjOp4n8c%2BzdPC4x4WD05cNCnho27fuKdOTX%2BKpK/XXU4r4dfs2/s8fCFUX4VfArwf4bKfdfQ/Ddrat9S0aAk%2B5Oa7WiivSp0qdKPLCKS7JJL8Ej4rF43G5hWdbFVZVJveU5SnL75Sk/xCiiirOYKKKKACiiigAooooAKKKKACiiigAooooAKKKKACiiigAooooAK8Z/Zf/5Lf%2B0d/wBlmsf/AFCvC9ezV4z%2By/8A8lv/AGjv%2ByzWP/qFeF6APZqKKKACiiigAooooAKKKKACiiigAooooAKKKKACiiigAooooAKKKKACiue%2BK/j2%2B%2BGHw81Px5pvw817xXPpsKyJ4e8Mi1N9eZdVKxfa54IQQGLEySooVWOeMHkI/wBrf4W/8Mh6X%2B2ld2er2/hXWPBdh4ksbB7NH1GSK9giltrUQxuytcyNNFEI1cqZHChiPmoA9Qr85f8Agub/AMS/41/Anxh0/wCEettV1Hd/d2%2BI/B6Z/wDIlfbvwD%2BP%2BjfHrTdeEfgbX/CuueFNfOjeKfCvihbT7dpd59mt7tEdrO4uLeRZLa6tpleKaRSswBIYMq/E/wDwXxs5pfDdhqloubjS/hD4jvYPZo/FvgQk/wDfJavKz3/kTYh9oN/dZ/off%2BFTX/ES8ni9pYinD5VHKm/wqH6K0VFY3kOoWUN/bNmOeJZIz6qwyP51LXq7nwLTi7MKKKKBBRRRQAUUUUAFFFFABRRRQAUUUUAFFFFABRRRQAUUUUAFFFFABRRRQAUUUUAFFFFABRRRQAUUUUAFFFFABRRRQAV4z44/5SF/C/8A7Iz48/8ATt4Qr2avGfHH/KQv4X/9kZ8ef%2BnbwhQB7NRRRQAUUUUAFFFFABXjP7B//JENc/7LN8R//U11uvZq8Z/YP/5Ihrn/AGWb4j/%2BprrdAHs1FFFABXzp%2B1h/wUC0P4NeMIP2d/gH4Jn%2BJnxk1aL/AIlngfRpRs09SB/pWoz/AHbSBQQx3EMQR91W3jK/bv8A2pPiRZeKNJ/Yi/ZDmjufi/46ti76j96HwfpGds2rXJGdrAZESnktg4J2JJ6L%2ByL%2Bxh8G/wBjfwM/hv4dabJea1qRE/irxhqjGbU9euzy89xMxLHLFmCA7V3HAyST5FbE4nGV5YbCPlUdJz3s/wCWK2c7atvSF1dOVkvCxGLxePxM8JgZcqhpOpvyv%2BSC2c7atv3YXV1KTUV5v%2Bzf/wAE/tcPxIt/2sP25/GsHxG%2BLGN2lxeUf7E8JITuEGm27cBlOP37DeSAww253%2BkfGHjHwn8PvDF9418deJLHR9H0y3afUNT1K5WGC2iXq7uxAUfWuD/ao/a5%2BC37Hvw%2BHjz4va9Isl3L9n0LQdOj87UdZujgLb2sAOZHJKjPCruBYgGvnzwd%2Byn8fv8AgoD4osPjZ/wUP09/D3gazuVvPB3wDsrpjCuOY7nWZBg3E2OfI4VehC5kjbL2lDL39UwUOeq9Xd7X%2B3Vnq9em8pbRilqv0fhPgLBUcr/tXM6jwuA5neo1z1sRNfFChGTTrVNlOpJqjRuvaTVo0mmoftRftS/8FDtUm8FfsD21x4E%2BGaTtBrPx08Q6awmv1B2vHo1pIAzngjz3wBz/AKtlUt6t%2Bzn/AME2f2Xv2ddfPxFt/Dd54x8czOJb34gePb06pq00v/PRZZRthb3jVTjgk17rpmmabomm2%2Bj6Np8FpaWsKw2traxLHHDGowqIqgBVAAAA4AFT1vQyuHtFXxT9rU7te7H/AAR1UfXWT6y6Hp5px3ivqcssyGn9RwTVnCEm6tZd8RXSjOq3/InChHaFFr3mUUUV6p8EFFFFABRRRQAUUUUAFFFFABRRRQAUUUUAFFFFABRRRQAUUUUAFFFFABRRRQAUUUUAFFFFABXjP7L/APyW/wDaO/7LNY/%2BoV4Xr2avGf2X/wDkt/7R3/ZZrH/1CvC9AHs1FFFABRRRQAUUUUAFFFFABRRRQAUUUUAFFFFABRRRQAUUUUAFFFFAHPfFcfEFvhzrEXwr8O6Nq3iCWzaPTdP8Qa5LptnK7EKfNuYba6eIBSxBWGTJAGADuHzn4K/ZS/ac1T/gnL4Y/Y3%2BI%2Bm%2BA9E8SeD/AALoNhpOt6H4rvdUsp9W0SSzkspJEl061dbeWSyjeQDLoHZFEmA5%2BraKAPI/2WfhF8UvA2sfET4q/G2DQLPxP8SPGEOr3ei%2BF9Vnv7HSre30ux02C3S6nt7aS4YrZGZnMEWGnKBSEDN8mf8ABXT4L%2BG9N1rxT4l0nUPEM95r37Ofju9v4NV8Xajf2kJttb8HSj7Na3M8kFkOCStukYbA3A7Vx%2Bh9fH3/AAUy0X/hIfE%2BpaQqbnl/ZL%2BLJiX1dZ/CzL/48BXDmcPaZbXj3hP/ANJkfUcD4n6nxtldf%2BTE4d/dXo/5n0r8Bda/4ST4GeC/EO/d9v8ACenXO71320bZ/Wusryb9gvWv%2BEh/Yf8Ag9rDPuab4Y6F5p/2xYQhv/Hga9ZrbCT9phKc%2B8Yv74xf6nn8Q4b6lxBjcP8AyVq0f/AatWP/ALaFFFFdB44UUUUAFFFFABRRRQAUUUUAFFFFABRRRQAUUUUAFFFFABRRRQAUUUUAFFFFABRRRQAUUUUAFFFFABRRRQAUUUUAFeM%2BOP8AlIX8L/8AsjPjz/07eEK9mrxnxx/ykL%2BF/wD2Rnx5/wCnbwhQB7NRRRQAV5/%2B0v8AHG5%2BAPw1i8WaL4RXxBrWq%2BIdL0Hw3ocmo/Y473UdQvYrSBZZ/LkMEKtL5ksgjkZYo3KpIwVG9Arz79pf4HXXx%2B%2BGsXhPRfF6%2BH9a0rxDpeveG9ck077ZHZ6jp97FdwNLb%2BZGZ4WaLypYxJGzRSOFeNirqAefXP7dF1oX7L3in43eLfhTHaeJ/B3jE%2BEdb8JW/iISWkesPqUFhBjUHgTFlIbq1uDctArRwSlniDI0dYVl/wAFAfHviC%2Bb4O%2BD/gh4b1L4uWvxJvPB2reF0%2BIci6JZz22iw61LdHVRpzTNCLS6tEx9iEgubjymVVR5V634f/srfEbwR8I/GPgHVPiZ4P8AEOqeOrrUtV8RX2vfDuSfT7vVb2ZjIZLE6jh7BbYQ2y2hl8zZDue5dmJrhPA//BNPUfhD4c0rxH8Evib4R8LfEPT/AB7eeKJdV074ZiLw47XOkx6RJYRaLBfRNBarZ29psVbveJrVZXeTfIjgHvX7O/xo0f8AaJ%2BB/hf426Ho9zpsHiTSIrt9LvWVprCYjEttIVyrPFIHjYqSpKEgkEGuM/YP/wCSIa5/2Wb4j/8Aqa63XQfCn9mL4a/Dv9mbRP2WvE2lWvjDw9pugx6dqsfibTobiPWW%2B9NNcQMpiYyylpWTbtBbAAAFcj/wTp8MeGvBX7N194P8G%2BHrHSNI0v4t/EO00zS9MtEt7a0gj8Z60scUUSALGiqAoVQAAAAKAPdK8w/bK/aU0H9kf9mvxV8edbiSeXRtPI0jT2JzfahIRHbW4A5O%2BVkBxyF3N2r0%2Bvjb40H/AIbb/wCCkfhj9nS1P2nwF8BUg8XePAPmhvPEEyn%2BzLJ%2BxMSbpyOhBkQ8gV5%2BZ4ipQw3LS/iTajH/ABPr6RV5P/D5nlZxi62GwnJQ/i1GoQ/xS6%2BkFzTflFdz0H/gnl%2BydrHwI%2BH158X/AI03kusfF/4kmPV/iLr96o82Od1DJp8eOI4LdSIwi/LlSRhQirqftr/tqaT%2By3oul%2BC/BHheTxh8UfGUxtPAPgKwbM1/OePPmwf3VtHyzyHAwpAIwzLv/to/tS%2BHP2Pv2ftX%2BMWs2J1DUEKWXhjQosmXV9VmyttaIq/MSz8ttBIRHYA4xXBfsM/sb%2BJPhnfX37U37T2sDxL8bfG9qj%2BIdWmUGLQrdgGXSbJckRQx8KxX77LnJAFcUlKgo5bgdJJXlJ68qf2n/NUm7tX63lLRJP8ASeDeGsiyLIY53nEHLC05OFGjdqWKrRSlJSktY0YOSliKifNJzVGm1Um5Uq/7Kn7BereF/H3/AA1h%2B2J4xj%2BIPxlvof3eoSx/8S3wvEcn7HpkJ4jVclTNgO3JG3e%2B/wCmqKK9TCYShgqXs6S823q2%2Brk3q2%2Brf4KyXjZ/xFm3E2P%2Bt4%2Bd2koxjFKMKcF8NOlCNo06cVpGMUlu25ScpSKKKK6TxAooooAKKKKACiiigAooooAKKKKACiiigAooooAKKKKACiiigAooooAKKKKACiiigAooooAKKKKACvGf2X/%2BS3/tHf8AZZrH/wBQrwvXs1eM/sv/APJb/wBo7/ss1j/6hXhegD2aiiigAooooAKKKKACiiigAooooAKKKKACiiigAooooAKKKKACiiigAooooAK%2Ba/2uNF/4SP8AaT0Xw9s3fb/2a/idbbfXfeeFFx%2BtfSleJ/Emxh1P9vv4babcjMdx8E/H0Ug/2W1XwgD/ADqKkPaU5R7pr701%2Bp04LEPCY2lXW8JRl/4DKMv/AG0xf%2BCT%2Btf29/wTl%2BEV9v3eX4Sjts/9cZHhx/45X0NXyj/wRHvprn/gmd8O7C7P7/TpdYs5x6NHq94AP%2B%2BdtfV1efks/aZPh5d6cP8A0lf5H13iXh1hPEbOaK2jisR93tptf%2BlBRRRXpnxAUUUUAFFFFABRRRQAUUUUAFFFFABRRRQAUUUUAFFFFABRRRQAUUUUAFFFFABRRRQAUUUUAFFFFABRRRQAUUUUAFeM%2BOP%2BUhfwv/7Iz48/9O3hCvZq8Z8cf8pC/hf/ANkZ8ef%2BnbwhQB7NRRRQAUUUUAFFFFABXjP7B/8AyRDXP%2ByzfEf/ANTXW69mrxn9g/8A5Ihrn/ZZviP/AOprrdAHc/Hr4t6H8BPgn4s%2BNXiQqbLwt4fu9TmjZseb5MTOsY/2nYBB6lhXi3/BKb4N618Ov2UbH4p/ER2uPG/xXvJPGvjTUJlxJLc3372KPB5RY4DGuzorF8AZIrnP%2BCtN5d/E/wAMfDP9h7Q7lxefGj4h2ljqyQuQ66HYst5qEoxz8oSH6gkZrpf%2BCnnxi174Nfsqt8L/AIPQqnjX4lahbeCPAdlbHYY7i8/dNIu3lFig8xg4GFbZnGa8DE4mnDH1cTPWOHhZLvOerS8%2BXkiv8ZHDOR4njDj2jl2HaTXLTTfwxlU9%2BpOXZU6MHKT6RUtrnn/wi/42Oftw3P7R19/pPwg%2BCGozaX8OIm5g1/xGMC61UDpJHBwkTcjdsdSCHFfalcT%2Bzh8DfCf7NPwK8K/AjwTCo0/wxo0NmkqxhTcSAZlnYD%2BOSQvI3%2B05rtq78twtTDUHKrrUm%2Bab/vPovKKtGPkr9WfZcaZ9hc6zWNHAJxwWGj7HDxe6pRb9%2BX/TytNyrVX/AD1FHanFIooor0D5AKKKKACiiigAooooAKKKKACiiigAooooAKKKKACiiigAooooAKKKKACiiigAooooAKKKKACiiigAooooAK8Z/Zf/AOS3/tHf9lmsf/UK8L17NXjP7L//ACW/9o7/ALLNY/8AqFeF6APZqKKKACiiigAooooAKKKKACiiigAooooAKKKKACiiigAooooAKKKKAOO/aD%2BM2hfs7/A7xZ8c/EmmXV9Z%2BFNAudSk0%2Bx2%2BfeNFGWS3i3EL5kjBY13EDc4yQMmuG%2BGP7VHjjWND%2BJWmfF74JDR/GnwwtY7zVfC3hDXn1xNTtprH7ZbPZTvbWryvJtmg8toUImgcAshR27n9oT4M6H%2B0T8DfFnwM8SapdWFn4r0C502TULHb59m0sZVLiPcCvmRsVkXcCNyDIIyK8t8PfsafEzUfD/xMtvjH8fbDV9Z%2BLmjT6V4v1vwt4Rm0d7W0Gmixs005Wv7g2rRb7mdnkacyS3BK%2BUqKgAI/wBgr9vG3/bbi8SPZeGvCqQ%2BH7PSrn%2B2fAnjweI9Kke%2BimkNg919ktvK1C2ESm4tdjeUtzbne3mEL0Pjj/lIX8L/APsjPjz/ANO3hCov2Xv2WPG/wV8eeIfin8UfinoniXXtc8KaD4aiXwv4LOg2Ftp2km%2Ba3Jtzd3Re4ZtQn3yeYqbEhRIowh3Yd/8ACP4UeBv%2BCm3gvx74J%2BGPh7R9d8T/AAe8cS%2BJda0rRYLe71Z49W8JeW1zNGgecrvfBcsRuOOpoA5L/gjR/oH7LHiHwh0/4R74s%2BJtO2/3dt8z4/8AIlfWlfJf/BKH/iWD9onwe3H9l/tO%2BKfIT%2B7DJ9mdP/Zq%2BtK8nItMoorsmvulNfofoHip73iHmNT%2BecZ/%2BDKOHqf%2B5GFFFFesfn4UUUUAFFFFABRRRQAUUUUAFFFFABRRRQAUUUUAFFFFABRRRQAUUUUAFFFFABRRRQAUUUUAFFFFABRRRQAUUUUAFeM%2BOP8AlIX8L/8AsjPjz/07eEK9mrxnxx/ykL%2BF/wD2Rnx5/wCnbwhQB7NRRRQAUUV5h%2B1t8ZPGXwY%2BGFhffDWz0yXxL4k8YaL4a0CTW4JJbK1uNQv4bY3U8cUkbyxwxySTeUskZlMQjDx796gHp9FfMGq/tk/Gbwp%2Bxr8UPinrnh/w5f8Aj34W%2BJtQ8P6k9hZTxaZeyw3EIjvorVrh52BtbmGf7Es7yvKGt45XZkc%2BW3H/AAUq/aI/4VlaXsceiJev8XNS8KT%2BKIPgp4ju7v7LbaIupJI/g2K7GtW07yM0JSSQ7IY0vGUQ3EeAD7xrxn9g/wD5Ihrn/ZZviP8A%2Bprrda/wM/aL0vxh%2ByD4N/ai%2BNeseGvCcGteB9O13xFdnxDA2laa9xbRySAXjP5RiV3Kh95BGPmPU8h%2BwL4/8Hap%2BynrXxP8PeJLHVNAm%2BKHxH1Oz1fTLtJ7a6tD4x1uVZopUJSRGTDBlJBBBBxSbSV2JtJXZ5/8Mf8AjI//AIK5eOviU/7/AEH4FeCrbwtozdYzrOoE3F3Mh/vpCDbuO3FQ%2BDP%2BMxf%2BCp%2BtfECT/SfBX7OOlvoeiE8xXHii%2BXN5KvYmCECFgRlXCMDzWD/wTu8cH4Jf8Er/ABX%2B2x4y2Nr/AIul8T/ELxDJJ/y3vGmnESAnkhkt4Qo9XOOtesf8Ep/hBP8ACP8AYZ8FTa4JJNf8YWZ8V%2BKL24/113f6iftLSSn%2B%2BI2ijP8A1zFfKYKLxkqEJf8ALxvET9Oa1OPy91/9uH1Xhz/wieHuY8TPSvi5fV6XeLxMXUrSXnDCQp0lbZ15/P6Kooor6w%2BWCiiigAooooAKKKKACiiigAooooAKKKKACiiigAooooAKKKKACiiigAooooAKKKKACiiigAooooAKKKKACiiigArxn9l//kt/7R3/AGWax/8AUK8L17NXjP7L/wDyW/8AaO/7LNY/%2BoV4XoA9mooooAKKKKACiiigAooooAKKKKACiiigAooooAKKKKACiiigAooooAKKKKACvGfHH/KQv4X/APZGfHn/AKdvCFezV8x/H74lR%2BCP%2BCrf7N3hSebavjD4YfErS0QtwZI5vC96D9dto4H1PrUVKkaUeaW2i%2B9pfm0Z1asKMOaW10vvaS/Fox/%2BCd//ABKP2pv2rPCHTyPi1b6js9Ptdkr5/HZX1pXyX%2ByH/wASb/gqD%2B1p4dPEd2PBOo26%2Bu7SpVkP/fQFfWleZkumBce06i%2B6pP8AzP0TxN97imNb/n5hsFP/AMCweGv%2BMfwCiiivWPz8KKKKACiiigAooooAKKKKACiiigAooooAKKKKACiiigAooooAKKKKACiiigAooooAKKKKACiiigAooooAKKKKACvGfHH/ACkL%2BF//AGRnx5/6dvCFezV4z44/5SF/C/8A7Iz48/8ATt4QoA9mooooAK4348fBLw1%2B0D8Opfh34m1jU9L26lY6npetaJNHHe6XqFldRXdpdwNLHJHvjnhjbbIjxuAUdHRmU9lRQB4dH%2Bwd4Bk%2BC2sfBHV/ir41v7TXtT/trU9aubmwTUZdfGprqaa0JYrRFW6S5jgKRhBaoltFGtuEUqcpP%2BCdnhS1u18b6V%2B0V8SbP4gt4qu9evPidBNo7ateT3Gm22mSwyQPpraf5H2Sys4xGlou02qOCJC7t9DUUAcx8F/hH4N%2BAnwm8O/Bf4fQXCaL4Z0mHT9O%2B2XJmmeONQu%2BSRuXkY5ZmPVmJ7180f8ACZ/8K9/4JdfHXxik2yWy8R/F42zZxiZvFWvpF/4%2By19fV%2BeH7W%2Bu3ul/8EdvivoekN/p/iL43eMtGsUz997j4j6kjL%2BMfmVwZrVdDLK9RdIS/wDSXb8WjzM7rvDZNiaq3jTm/nyyS/FoP2jdAv8Aw7/wSC%2BA/wCyFocr2%2Br/ABYfwb4UYQ/fiNyIbu7f/dHlurE8YfnrX6EaVpen6JpdtoulWqQWtnbpBbQRjCxxooVVHsAAK%2BQPidoVn8Q/%2BCp3wO%2BAelr5mj/Bv4b6l4tvoQPkMs4TTbMN6OhTzFHXBz0r7GriyikliK0ukOSkvSnBX/8AJpP7j9Nz6gsk4FyDJVo/ZTxM1515qnTv/wBwMKmvKfnqUUUV7h8KFFFFABRRRQAUUUUAFFFFABRRRQAUUUUAFFFFABRRRQAUUUUAFFFFABRRRQAUUUUAFFFFABRRRQAUUUUAFFFFABXjP7L/APyW/wDaO/7LNY/%2BoV4Xr2avGf2X/wDkt/7R3/ZZrH/1CvC9AHs1FFFABRRRQAUUUUAFFFFABRRRQAUUUUAFFFFABRRRQAUUUUAFFFFABRXn/wC1X8arn9nP9m/xt8cdP0FNVvPDHhy6vtP0yWYxR3d0qHyIXcAlEaUorOASqknBxivPPAH7UnxJ%2BH2jfGbSf2o5PD%2Bq6r8G9Hh16%2B1jwPos%2Bn2up6XLpr3i7LW5url4Zke3u4iDO6uEjk%2BTeY0APoOvz0/4K%2B%2BKL/4a/t/fsd/GC2Oy18N63r51mfOPJsLq/wDDllO35XAH419E/sE/tR%2BKv2lvD%2Bo6p49%2BI/hW/wBWGlaXqo8M6B4D1fRJdHtr1JnjJl1Odjq1s5jdIdQgiggnNvMUXqqfNv8AwV81b4X/ALQ3iLXvhb8O/iZoGseJ/An7P/jfV9a0rR9aguL7RJrPXPB16nnxRuXt3ZLWUAOFJAbHQ15ucRnLK6zhuouS9Y2l/wC2nkZ/GpLJa7p/FGLkvWDU1/6Rb5nsHwg/4kn/AAWS%2BMOl9P7c%2BEvh/Ucf3vJme3z%2BuK%2BtK%2BGfEHxIh0L9tb9mL9tyzkEejfHD4djwb4hmXhFnuIY9R04Y6b3nZo/UBCPavuasMnqRca0F0qSfymozi/mpP7mfqvHM44/DZNmtJ3p18Dh0n/eoc9Ca9U4w%2BUovqFFFFeyfAhRRRQAUUUUAFFFFABRRRQAUUUUAFFFFABRRRQAUUUUAFFFFABRRRQAUUUUAFFFFABRRRQAUUUUAFFFFABRRRQAV4z44/wCUhfwv/wCyM%2BPP/Tt4Qr2avGfHH/KQv4X/APZGfHn/AKdvCFAHs1FFFABRRRQAUUUUAFfnH8cv%2BKn%2BBHwg%2BD0fzf8ACVft2%2BJUvYv71lb%2BNvEM0xx3xhDX6OV%2BaY8QW037THwH0S6w9l4Z%2BLXx38W6shPCra%2BItZEDf9/NwzXk541/Z0ov7ThH75wv%2BCZ4%2Be0518v%2BrwV3VnSppd3OrTjb5nuf7Af/ABd/9sX9pf8Aall/e2r%2BNrXwNoEp6RwaRbhLjyz3SSWRXz0JHFfXNfLX/BGHw3Pov/BOjwJrmqZfU/Esmpa3q10/3rme51C4cSN7mPyx/wABFfUtPJIv%2By6dR7zvN%2Bs25/ql8j9W8UKkP9e8bhKbvTwrjhof4cNCGHTXq6c5f9v97hRRRXqnwIUUUUAFFFFABRRRQAUUUUAFFFFABRRRQAUUUUAFFFFABRRRQAUUUUAFFFFABRRRQAUUUUAFFFFABRRRQAUUUUAFeM/sv/8AJb/2jv8Ass1j/wCoV4Xr2avGf2X/APkt/wC0d/2Wax/9QrwvQB7NRRRQAUUUUAFFFFABRRRQAUUUUAFFFFABRRRQAUUUUAFFFFABRRRQBzvxc%2BFng344fCzxF8G/iHYSXWheKdFudK1aCGZopGt54mjfY64aNwGJV1IKsAQQQK4L4Z/sdeGvAdt4kj8V/Fjxd45n8bCVPHN54wGmPJr8Js4rKKCYWllAkUUMEZCJbrCGaaZ5PNeQtXr9FAHk37Ov7Ivhf9nfXtQ8WRfE/wAXeMNWvPD2m%2BH7bUvGFzZvJYaPp7XDWljELS2t1KI11OxllWSeQuPMlfau3nfjj4S0zx9%2B2r4H8Ca0ubPWvgJ8RLC7GM5im1LwlG3H0Y173XjPjj/lIX8L/wDsjPjz/wBO3hClKKlFp7MmUYzi4y2en3nxZ4Y8O%2BL/AIwf8EHrT%2BziV8d/AnVp76xdQWazvtB1GV%2BB1yLLcAOuWr9E/gx8T9E%2BNfwh8L/GDw2R9g8UaBaapaqGyUSeFZAh913bSOxBr5k/4J/6Tpvhf9on9q79lTW7NJLGD4mL4kWxlHyPa67ZCZkUf3P3ZBA4G7Her3/BIXVtS8IfBPxf%2ByR4mvJJdV%2BCvxD1Tw2jTnMk2nNM1xZ3B/2XSVgv%2BzGK%2BVyeTw9ain9uDpv/AB0JSS%2Bbh%2BR9XwvKWc%2BDCw8tauWV16%2Byr81CfyjiMPSk%2Bzq363f1nRRRX1Z8sFFFFABRRRQAUUUUAFFFFABRRRQAUUUUAFFFFABRRRQAUUUUAFFFFABRRRQAUUUUAFFFFABRRRQAUUUUAFFFFABXjPjj/lIX8L/%2ByM%2BPP/Tt4Qr2avGfHH/KQv4X/wDZGfHn/p28IUAezUUUUAFeQ/tr/Ejx98PPhPpFl8MvEraFrHizx/4d8MQ%2BIktIZ30mLUNTt7ee5jjnR4mmELyCLzEeMStGXR1BRvXq534sfCfwD8b/AAFe/DP4m6G2oaPfvBJNDFezW0scsMyTwTwzwOksE0U0UcscsTrJHJGjoysoIAPmTW/2kf2gPCX7EXxbv4PiN/a3jn4ffEC78IaD4ru9MtEu9bZr%2B1itNkEcK2h1F472O1jHlJbveKhaNI2ZF8ws/wBsr9rs2dh%2Bz7c3vxPfxbqXxs1Tw/KsGg%2BFX8a6XpVp4cttXS2nOF8PC6madZluFLwfYXSPm7J2/XNr%2Bxd%2BzlafCm9%2BCX/CF6hP4Y1K3kS/0698VancG4mkvXvnvXlluGla%2BN05nN8W%2B1eYFbzcouKa/sJ/s0R%2BBf8AhAYfC%2BvxxHxO3iNtdi8fa0uutqzWv2Nr06wLz%2B0DKbT/AEUsbjJtwIf9WAlAGt8IPjn4L8QfsueHvjraeJPFHiXSJfDcFzLqUvhaWfWb1lUJI0un6db7jc%2BYGEkNvAArhwqBQAPzE0H4nWHiz4l/GX4n6Ql9DYeDvgb8XbvT11PTJ7K5gv8AUvHuvrEstvcIk0DmJl3RyIrqQVZQQRX61/Dv4e%2BC/hN4F0j4Z/Dnw7b6ToOhafFZaTptqDst4I1CqoJJJ4HLEkk5JJJJr8Ybu91OP4W/8FB/GYUtMPinL4R0ML1f7T4z1KSeMf8Af7OK%2Bb4oqOngI27t/wDgNOpL87fgelwxl/8AbHiDw9l7WlXH4ZP0jPnd/K0dT9XP2CPCf/CDfsRfCPwu8WyS2%2BHOjm4XHSV7OJ5P/H2avW6zvCHh628I%2BE9L8KWePJ0zToLSLHTbHGqD9FrRr3sNS9hhoUv5Ypfckv0HnePea51isa/%2BXtWpP/wOpUn/AO3IKKKK2PMCiiigAooooAKKKKACiiigAooooAKKKKACiiigAooooAKKKKACiiigAooooAKKKKACiiigAooooAKKKKACiiigArxn9l//AJLf%2B0d/2Wax/wDUK8L17NXjP7L/APyW/wDaO/7LNY/%2BoV4XoA9mooooAKKKKACiiigAooooAKKKKACiiigAooooAKKKKACiiigAooooAKKKKACvGfHH/KQv4X/9kZ8ef%2BnbwhXs1eM%2BOP8AlIX8L/8AsjPjz/07eEKAPIPjfqE37IH/AAU68JftF6yqr4H%2BNmiQeBvEN6wwum65A5k0%2BWRum2ZMwjP3drsSABUHxx1S6/YH/wCCgMH7Vmqqq/C/43Q6f4b%2BIF8BgaFrdspj0%2B%2BlPQQyRkxMxwF%2BdifuhvoD9sL9mvw1%2B1x%2Bzl4n%2BA3iSRYDrNgTpeoFfmsL%2BMiS2uVI5GyVUJxgldy9GNeQ/sn%2BLdG/4KHfsPa58Af2o9EMnijRTc%2BC/inpUxAnh1K1IQXans77Y7hJAMCQHbnZXzOJw1Sni5UKbtKTdWk3spr44Pyknf8Awylb4Tu4Dz7C8J8VVsHmEHPA46E41Ir4uSbg6vJfT2lKcaWJpX05oSi/dlK31UCCMg0V8mf8E7vj34t8Ea3q3/BO39pzxGjfEf4bgQ%2BHNSu22Hxb4e25tL6Hcf3kiRgJIoJYbAWJYSbfrOvbwWLp47DqrFWezT3jJaOL80/v0a0aPS4n4dxfC%2BcTwNaSnHSVOpG/JVpTXNTqwb3hODTXWL5oStKEkiiiius%2BfCiiigAooooAKKKKACiiigAooooAKKKKACiiigAooooAKKKKACiiigAooooAKKKKACiiigAooooAKKKKACvGfHH/ACkL%2BF//AGRnx5/6dvCFezV4z44/5SF/C/8A7Iz48/8ATt4QoA9mooooAKKKKACiiigAr8edC8IvcfCD4h6BcxZl%2BJ//AAU41bRNoH%2BstIdduWBPsHjkz2FfsNX5o6T4V00/GL9n34Z6eWd/EH7X/wAXvFl2jY%2BaXTvEesPu47KpUfhXhcQUfa4JeqX/AIG4Q/Js%2B38NMPzeIGBxj2wyxNf/AMFYTEyT%2BT5X8j9LqKKK90%2BICiiigAooooAKKKKACiiigAooooAKKKKACiiigAooooAKKKKACiiigAooooAKKKKACiiigAooooAKKKKACiiigAooooAK8Z/Zf/5Lf%2B0d/wBlmsf/AFCvC9ezV4z%2By/8A8lv/AGjv%2ByzWP/qFeF6APZqKKKACiiigAooooAKKKKACiiigAooooAKKKKACiiigAooooAKKKKAPMP20/i94q%2BAf7JnxD%2BMfgaO1Ot%2BH/Cl5daO99EXt4boRkRSyqCC0SOVd1yMqrDIzkeffCn49eI/gHdfHLw1%2B0x8bNQ8W6B8HtMsvEU3jnWdJsre9XTJtMe6uIZ49Ot4IHeF7ad1McKsY5olYOyl3998aeDfCvxF8Hat8PvHWgWuq6Jrumz6frGl3sQeG8tZo2jlhkU8MjozKR3BNch8HP2W/g38Bd7/DTT9egmuL2W8v7vVfGmq6ncajO8ENv5l3Ne3Msl2Uht4IovOZ/JSMLHsGQQDwf/glx%2B2rrf7W/ij4x2viv9oHwZ4vuNG8W6ddaHofg/WdNvYvDml3uj2Vylj51kW%2B1eTO9xC9y7OJJ4ZwhVFWNOzv/id4b8Y/8FNvBfgzSdN8Qw3nh74PeOI7%2BbVfCOo2NpKX1bwlg211cwRwXoG05a3eQLkbiNy59p8LfDHwP4K8V%2BJvG/hnQ/s2qeMdSgv/ABJdfaZX%2B2XENpDZxvtdiseILeFMIFB2biCxJPm/jj/lIX8L/wDsjPjz/wBO3hCgD2avkD9q34P/ABq/ZS%2BOupf8FDP2S9Bm8QwapZ28Pxm%2BGcCjfr1lbqVTULPAyLyGPPy871Bxklg/1/RXJjcHDGUlFtxkneMlvGS2a/Jp6NNp6PThzDAU8fRUXJxlF80ZLeMls197TT0lFuL0enzP8SPhV%2BzT/wAFWf2f/Dvxp%2BFHj2bT9Ysj9u8BfEPQj5WqeHL9cExvghhtcBZbdiAcZBB2OMD4Bf8ABQLxH8LfGVv%2Byn/wUetrXwV8QoZPs%2Bh%2BM3jMWgeM4hgJc21wQI4ZmyN8TbQGIA2s3lKfFn9hr42fAz4naz%2B0z/wTf8c2Ggaxrlz9s8YfCvXk/wCKe8SzD70qbcGyuW5/eLgMxGSgLlq2h/trfsdfthaVd/snft0/DG28BeM3Ii1b4cfEyNYkkmOQs1jeMFjmBJPlyxskh6qMYY%2BBOpWo4lTm1RrvRt/wq1tteku17Tjt%2B8ifV8O%2BIODpZdDhzjKi54dN%2ByqRajOlJv3pYapO8eWfxVMJWcYyl70HCf7yX1%2BrKyhlIIIyCO9LXxrafsq/t4fsTxn/AIYd%2BMNj8RPAVud1r8J/ihcsLixi/wCeOn6mCCo7Ik2I0A53Eknc8Gf8FcfgVpOtwfD79rrwN4o%2BB3ix28ttP8d6XILCdx1NvqEamGWL/po3lg16cc3o0moYyLoy/vfC/wDDNe6/nyvyPpq/h3mOOpyxHDlWOY0VrajdV4Lf95hZfvotdXBV6ejtO1j6uorM8IeNPB3xB0GDxV4C8WaZrel3IzbalpF/HcwSj1WSMlW/A1p160ZRkrp3R%2Bf1aVWjUdOpFxknZpppprdNNJprs0n5BRRRTICiiigAooooAKKKKACiiigAooooAKKKKACiiigAooooAKKKKACiiigAooooAKKKKACiiigArxnxx/ykL%2BF//ZGfHn/p28IV7NXjPjj/AJSF/C//ALIz48/9O3hCgD2aiiigAoorxD9v7xJ4i0L4J6NpGieK9S0C08SfEvwr4f1/XNH1CSzurPTr7WrS2uBFcxMr2zzLJ9mEyMrx/aNyMjhWAB7fRXxD4j%2BJnxG8K/8ABPn4zaN4a%2BLuvmXwx8Vb7wd4C8Vahr1xPfXEMms2tpDaS6lJIZ0CXFzLpzX7O01ukRmZnkhLHyX4h/tDftB/Cn9l34u/ADVNR%2BJ%2BmaxZ/ELW9O1fxF4KuPEnjk%2BBtNg8N6ZqaWdrrsds9/I9y15Dtu7tLZrU3l6EZRYwGQA/Tivzf%2BAN/aa5/wAFFvhzpd9OFi8FX/xo15yQT5f2vx1rFiCAOckgKMck8V9mfs//ABU1jxB%2Bxv4J%2BLWleE/FPirULrwLpt3/AGU9sLPVtSmNtHvyuqyWwWRm3NuneMN97ccgn4W/4Jq6tf8AxO/b9%2BJvjzVfDF9o9z4aTXtJuNI1OSB7jTpL34m6tfG3la3llhMi4IJjkdCQdrMME%2BTm3vKhT/mqw/Dml/7aj9A8P/3M82xf/PrAYq3rUVGgvv8AayR%2BlH/CYaT/AM%2Bmqf8Agju//jVL/wAJhpP/AD6ar/4I7v8A%2BNV87ePv%2BCyP/BN74X%2BO9a%2BGnjn9o37Drfh3VrnTNYsv%2BEQ1iX7PdW8rRSx747Rkfa6MNykqcZBI5rJ/4fl/8EtP%2Bjof/LJ1v/5CqpZ5ksJOMsTTTX9%2BP%2BZnR8LfEzEUY1aWSYuUZJNNYeq000mmmoWaaaafVNPqfT//AAmGk/8APpqv/gju/wD41R/wmGk/8%2Bmq/wDgju//AI1Xzt4B/wCCyP8AwTe%2BKHjvRfhp4G/aN%2B3a34i1a20zR7L/AIRDWIvtF1cSrFFHvktFRNzuo3MQozkkDmu%2B/b%2B%2BMHxM/Z9/Ym%2BKfxx%2BDdpps3ifwl4H1DVdHXV5mS3WWCFpN77Y5N21QzBNuHZQhZAxdevC43B42Llh6kZpb8rTt62Pn884Z4k4YrQpZxgquGlNNxVWnOm5JOzaU0m0no2uuh6X/wAJhpP/AD6ar/4I7v8A%2BNUf8JhpP/Ppqv8A4I7v/wCNV896n%2B258bfCvxD8c%2BC/iF8CvAmhaf8ADL4eWnibxz4nu/ipdGxt3u4tUa3trbGjiWdQ%2BnxiWV0iKJcFo45nQRScz8Nv%2BClWr/FXVPDOh6t8J9X8L63F8aJfB3iHSFlvLaGRD4P1DX4Z9usaPaXrwukMSbfs9pIJUDLLJCpW46Twz6q/4TDSf%2BfTVf8AwR3f/wAao/4TDSf%2BfTVf/BHd/wDxqvnn9kr9vn4k/tD6folx45/Zg/4R%2B78WfCbRfiD4T0vw941h1We606%2BYI8E5uILKK3uIS8TFQ8iOj5DhlMddT%2B1X4s%2BKupfFr4X/ALPHwt%2BK%2BoeBG8bXWsXWreK9G02xur2K3sLISLbQLf29xbq0k00LMzxOfKglVdrMJEAPXf8AhMNJ/wCfTVf/AAR3f/xqj/hMNJ/59NV/8Ed3/wDGq%2BcoP2hP2kfif/wTI8IfH/4fWlz/AMJzrukeHZvEN34V0Nb24t7SW/tItY1DTrKRZBPKlmby5t4Csu5ljXZOcRvwPhX9pf4g%2BNf2ZfiF438Z/tVfEvwVD8LPiNf%2BHtO8RH4f6RD4i8YeZaWNxpsMum3mmMguZJL9LZLaC2t5pnWNSsTsyUAfZf8AwmGk/wDPpqv/AII7v/41R/wmGk/8%2Bmq/%2BCO7/wDjVfDn7QP7Vf7dvwIsND%2BIvxdtPFOjXeleBPBV7N4X8FeB4dR8P6/rVzdmLxFZ3%2BotbTNYCFTGtuBcWuS6shu2JhWFP23v2nvBX7R%2BseLfFmta9qPw/Txd490nS4n07Rx4a1j%2BxLC/uIdN0uWCL%2B1k1WNtNuhcvef6IWsr9YS5WEUAfdH/AAmGk/8APpqn/gju/wD41V%2Bwv7TU7RL6xnEkUgyrAEd8EYPIIOQQeQRXzJ/wTm/aA8e/FiyuNO%2BNnjr4g3Xi/VfBmieKho3jPw5omn2EVjei4xc6SNMQzC0eVHj8m/lkvIhDF5gUyZf6M8H/APIJm/7Cl9/6Vy0AatFFFABRRRQAUUUUAFFFFABRRRQAUUUUAFFFFABRRRQAUUUUAFFFFABRRRQAV4z%2By/8A8lv/AGjv%2ByzWP/qFeF69mrxn9l//AJLf%2B0d/2Wax/wDUK8L0AezUUUUAFFFFABRRRQAUUUUAFFFFABRRRQAUUUUAFFFFABRRRQAUUUUAFFFFABXjPjj/AJSF/C//ALIz48/9O3hCvZq8Z8cf8pC/hf8A9kZ8ef8Ap28IUAezUUUUAFcX8b/2dPgX%2B0l4VbwX8dvhXovijTsHyotVs1d7cngtDIMPC3%2B1Gyt712lFRUp060HCpFNPdNXT%2BTuZ1aVKvTdOrFSi900mn6ppo%2BP4v%2BCc37Rn7O4L/sEftweIfDekwndbfD74iWo17RkXtBDJJ%2B/tI/8Ac3t155qj4q/aJ/b18H6BP4L/AGzP%2BCZWm/EzQGXbf6v8K9Ug1W2uwOu3Sb0GduOfmI9K%2BzqK8t5PTpq2GqSprsmpQ/8AAJ8yt5JpeR5VLJ3gaiqZdiKmHlF3XJK8U1taMr8tunJKFulj8rptV/4Iv6h4wkvvC3j34pfsteOblt0sNiuqeHJkcdnjKTWiKDwVUqME/WvY/hxffttxRxt%2ByX/wVX%2BDvxosh/x56N49sLfzwv8Azze50yVppG93AOewr7f8SeFPC/jLTH0Txf4bsNVspP8AWWmpWaTxN9UcEH8q8M%2BIn/BKn/gnb8UWkk8UfskeEYXlyXk0KzbS2JPfNk0Rz715byPGUXejyJ/3HUov7oOdP/yQ%2B8p%2BJXijCmqWPr4fMaa0SxdFVJWXRVJKdRfKsrdLHFD9rv8A4KXfDL918Zv%2BCaa%2BIraP/W638MvH1tch/XZZTgTfm1KP%2BCx37Pfhcbfjx8E/jH8MmTid/Gvw1uo4k9SHt/N3L6HHI7Ug/wCCOnwL8Nj/AIst%2B0N8cPh2E/1EPg/4nXMcUfoNs6y5X2zS/wDDBP7cXhQY%2BFX/AAVn8dWyp/q08X%2BCtO1wkejNKUJ%2BtFuJKHw80vV0p/8AymRf%2Bu%2BR4n/kZcKxT6yweNqUvup1lWh%2BS8jt/A//AAVR/wCCdvxCCHQP2vPBsHmfdGtagdNP4i8WIj8a9b8H/GP4RfEII3gH4qeG9cEn3Do%2BuW9zu%2Bnluc18b%2BN/2Ev%2BCh/iEufFHjn9mr4lls7n%2BIXwbSJpfdjbq2D9K8k8X/8ABLr9o3Uy58Zf8E3/ANl3Xj/E3gbxXruhbv8Ad/eIFo/tXPqXx4a//bs1/wCkyqIX9s%2BFeI/iYfNMK/8Ar1hMVFfOFWhN/cj9R6K/JYfsL/tX%2BB8L4S/4J5fEzw%2BidLj4b/tbQ2/l/wC5HdpIx%2BlA8N/8FE/Aw/4lWjftpads6C58a6T4oC/mke%2Bj/WTE0/4mEmvTm/8Abqa/MP8AjV9b%2BHnlWl5V8txkfvlSlWj91z9aaK/JYftOf8FSfBfA8fftQCNP%2BWOtfsl6VfRD/euIrwP%2BQoH/AAVF/wCCj/hL/kIa6s23r/wmf7PusWOf977G74/Cj/W7Ax/iUqkf%2B3U/8g/szgyp/B4lwL/x/XKP3%2B1wKS%2B9%2Bp%2BtNFfkyv8AwXX/AGtPDC7vG0PwVlC/eEXhbxhZt%2BPm2zgGrOn/APBxz41tyBd/BX4f6wR1/s7xnfWGfp9rsRj8aa4zyDaU2vWL/RsFw/ltV2oZ5lk/TMMPH/07Gifq7RX5jaN/wcdW9yA2ufsjafbjubX4yaZL%2Bjwx10Fp/wAHGnwMhXd4h/Z%2B12D%2B99g8X6Pdfl/pC5rePFvDsv8Al%2Bl6qS/Q0XCOPm7UsVg6n%2BDMMBL8sWj9GaK/Pax/4OSv2IZJha6n8LfidbyHqYdK02dPzS/yfyrp9J/4OCv2C9TAaXTPiFaA/wDPfwjux/37latocT8PT2xUPvf/AMiaS4F4oSuqMJf4cRhJf%2Bk42X5H3FRXx3Zf8F2v%2BCdNwA198Q/EdiO/2rwTqHH/AHxE1atj/wAFwP8Agl9et5Z/acWB%2B6XPhDWI8fibTH61us%2ByOW2Jp/8AgS/WxK4F4yl8GAqy/wAMVP8A9IqTPq%2Bivmmw/wCCw3/BNTUsfZ/2sdCXP/PxZXkX/ocIrasf%2BCpX/BO/UcfZ/wBr/wAELn/nvqwi/wDQwK2jm%2BUy2xEP/A4//JCfAvG6/wCZXiPlQqv8oSPfKK8bsv8Agol%2BwTf48j9s34YLn/nv43sYv/Q5RWtZ/ts/sZ6jj%2Bz/ANrj4Yz56eT4905v5TVrHH4CW1aD/wC34/8AyRy1OEuLKP8AEy7EL1oV1/7hPTqK4az/AGn/ANmrUMfYP2hvA0%2Benk%2BLbNs/lLWpafGf4PX%2BPsPxX8NTZ6eVrtu2fyetViMPLaafzX%2BZwVMnzej/ABMNUj606i/OmjpaKzbTxl4Qv8fYfFWmzZ6eVfRt/I1oRTRTp5kMqup/iVsitVKMtmcU6VWm7Ti16pr80h1FFFMzCiiigArxnxx/ykL%2BF/8A2Rnx5/6dvCFezV4z44/5SF/C/wD7Iz48/wDTt4QoA9mooooAKzfGPgzwf8RPC1/4H%2BIHhTTdd0TVLZrfU9H1ixjurW8hYYaOWKQFJEI6qwINaVFAHHab%2Bzt%2Bz9o3hFvAGkfAvwdaaC%2BhHRH0S28MWkdo2mF3c2JhWMIbctJI3k42ZdjjJNW/BfwU%2BDXw4%2BH8nwm%2BHnwl8M6D4VljmSXwzoug29rp7rNnzlNvEixkPubcNvzZOc5rpqKAINL0vTND0y20XRdOgs7OzgSC0tLWFY4oIkUKqIqgBVAAAAGAAAK/Or/gkPoEkv7Rf7YnjuYFhcftI3WmQMf4Bb%2BJNSkZR6ZM4Jr9HK%2BIv%2BCT3hVtH8E/tEeJZ4/3mtftoeNpEfHWKLxGIVH4Mkn515%2BLp%2B0xWHf8spP/AMkkv1PruHsasHkGcxvrVo0qf34qlJ/hTPt2ivmLx/8A8FNf%2BEC8d634F/4d8/tPa1/Yur3Nh/bGgfCf7TYX/kytH59tL9pHmwvt3o%2BBuVlOBmsj/h7D/wBY1P2tP/DN/wD3VWcs6yyMnF1NV/dn/wDKz84lxDk0JOMquq0%2BGp00/wCfR9aVi/Ef4eeDPi58Ptc%2BFXxG0GLVfD/iXSLnS9c0ydmVLq0uImimiJQhgGRmGVIIzkEHmvnzwD/wU1/4T3x3ovgX/h3z%2B09ov9tavbWH9sa/8J/s1hYedKsfn3Mv2k%2BVCm7e74O1VY4OK9m/aT8YfE74efALxf8AEH4M%2BHLTWfE%2Bg6Bc6lo%2Bi3sLumpSQIZTagI6EPKqNGjbsK7qxDAFT14bGYbGRcqMrpb6SX/pUY/qduDx%2BDzCLlh5cyWj0kvP7UY/hcxoP2Nf2eF8K%2BKfB2p%2BENS1ez8a%2BG7fQfFUviLxXqep3WpWEH2nyY5Lm7uZJ96fa58ShxKNy/P8ibc7wP8AsFfstfD3Ul1zw/4C1KbUh4uHiiXVta8Y6tqV5cauNIm0YXc1xeXUss7DT55bfEjMu0qcbkRl8N8R/wDBR/4m/Ejwtc%2BMf2XG0PVbDxH47m0j4USxeEl1RvEGnWGkLdareyNc63pVtDHFd%2BfAHa4XaLNwElaQeXxPg39ur4jfFzxHonx4svtNrp3jz4Zfs76rH4UbX737DpU/iLxdrttfyQfZp4tzmLyUZjlJ1tYVmSWJfKPSdh9h%2BGP2TvgR4JsdEsPB3hO90pfDnga08HaJNp3iPUIZrTRbV43gtVlScOdpijzIWMjAEM7BmB0fjf8As9fCn9onRNP0P4paPqMw0jUTfaRf6J4ivtIvrG4MMsDPDeWE0NxFuhmmicJIA6SMrAqSK%2BTfgn%2B1T%2B1B8bv2pPhB4w1PxV4R/sTx38LfH%2Bt%2BHPh7pV1e6e1rJZ3%2BjQW0GrSma4S6lj80o1wltEbaR7hFikzk%2B3ftv6t4kn0z4UfDeXxVqvh3SPHfxXsND8Z6l4b1240%2B6hszp9/dJBDe27RT2/n3trZ2vmRtHIy3BVSpcUAehSfs7/CxPAY%2BGGjWOsaLoEXhyw0Ky0zwz4r1HSo9PsbMk26Wn2O4iNm6g7TLAUldERGdljRV4vxL/wAE9f2VfFfhTwn4O1Hwl4kt7bwTr13rnh270j4j69YX0WqXSyrcX815bXsdzd3MgnmDTzySSHzpPm%2Bds8D8ItR/aF%2BKf/BNvxvofwn%2BJN3P40s9S8d%2BHPAPizWNVLXFxb6fr2qafplxJeShy0ptbaAfa3Dl2xO2/cc8V%2Bz7Z/FX4s6d8b/gWfBfj6wsPCXinRj4J8PeOP2hNWtNVhv5dKinu9Pu/EGk3V9dJGNyXQhWa62rdJuVVZYogD6V8Qfsl/BTxd4g8MeI/F1p4m1aTwhb2EWj2Wq%2BP9ZubF3spPNtbi6tJLtre/uo5cSi6uo5Z/MRHMhZFYVvD37F37Nvhf4sTfGnR/ANwuty6lf6jHDceItQn021vr5XW9vLfTZZ2sra4nWSYSzxQpJJ5825j5sm74Nn%2BNXxc8X/ALNGpa/4w/aS8ZaZq/wu/Zr8ReKfDV/pfiy7the%2BJ9O1jUbOZrh4Zh/bsFm9hZWy/aPNiu0vBLJGXuF2%2Bs%2BCvj18U7r9tjXPG/xw8IeI49HsPjNp/wAP/DsOnfFi/sodJmuvDtneQq/h6ALaalDJJdSyvdXLvPH5qlIvKtw4APqX4Ffsn/Aj9m26vr/4Q%2BEryyn1CwtbCSfUvEV/qbwWNqZDbWNu17PKbW0hM0pjtYdkMfmNtQZrsvB//IJm/wCwrff%2BlctalZfg/wD5BM3/AGFb7/0rloA1KKKKACiiigAooooAKKKKACiiigAooooAKKKKACiiigAooooAKKKKACiiigArxn9l/wD5Lf8AtHf9lmsf/UK8L17NXjP7L/8AyW/9o7/ss1j/AOoV4XoA9mooooAKKKKACiiigAooooAKKKKACiiigAooooAKKKKACiiigAooooAKKKKACvGfHH/KQv4X/wDZGfHn/p28IV7NXzh%2B0fq/xr0f9vD4Tz/A74f%2BFvEWpN8I/Ha3dp4r8YXOiwRwf2p4SJdJbfT71nfdtGwxqMEnfkBSAfR9FeM/8Jx/wUL/AOjX/gz/AOH41b/5l6P%2BE4/4KF/9Gv8AwZ/8Pxq3/wAy9AHs1FeM/wDCcf8ABQv/AKNf%2BDP/AIfjVv8A5l6P%2BE4/4KF/9Gv/AAZ/8Pxq3/zL0AezUV846T%2B0d%2B3brHxn1/4HW/7KHwkXVPDvhfSNdvLl/jrqnkSQajc6lbwohHhjcXVtLnLAqAA8eCxLBeo/4Tj/AIKF/wDRr/wZ/wDD8at/8y9AHs1FeM/8Jx/wUL/6Nf8Agz/4fjVv/mXo/wCE4/4KF/8ARr/wZ/8AD8at/wDMvQB7NRXjP/Ccf8FC/wDo1/4M/wDh%2BNW/%2BZeuX8A/tHft2/ETxX438IaP%2Byh8JIbjwH4oi0LVZLn466oEnnk0rT9TDxbfDBJTydRhUlgp3o4xgBmAPo6ivGf%2BE4/4KF/9Gv8AwZ/8Pxq3/wAy9H/Ccf8ABQv/AKNf%2BDP/AIfjVv8A5l6APZqK8Z/4Tj/goX/0a/8ABn/w/Grf/MvR/wAJx/wUL/6Nf%2BDP/h%2BNW/8AmXoA9mor5x%2BEX7R37dvxl8KXfi/w5%2Byh8JLa3s/FGt6FJHe/HXVFcz6Xqt1pk7jb4YYbGmtJGQ5yUZSQpyo6j/hOP%2BChf/Rr/wAGf/D8at/8y9AHs1VNQ8P6DqwI1XRLS6z1%2B0Wyvn8wa8k/4Tj/AIKF/wDRr/wZ/wDD8at/8y9H/Ccf8FC/%2BjX/AIM/%2BH41b/5l6TSa1E0mrM7%2B/wDgl8GNVz/anwi8MXOev2jQLZ8/mlY19%2ByZ%2Byvqef7S/Zn%2BH9xnr5/gyxfP5xVzP/Ccf8FC/wDo1/4M/wDh%2BNW/%2BZeuX%2BCP7R37dvx4%2BDHhD44%2BFf2UPhJa6X4z8L6frum22ofHXVFnhgu7aO4jSQJ4YZQ4WQBgrMMg4JHNZSw2Hl8UIv8A7dX%2BRhLCYSfxU4v1jF/nE7e8/YN/Yd1DP239jb4VyE/xN8PtNz%2Bfk5rKu/8Agm3%2BwBe5879jX4brn/nj4RtY/wD0FBU3/Ccf8FC/%2BjX/AIM/%2BH41b/5l6P8AhOP%2BChf/AEa/8Gf/AA/Grf8AzL1k8vy%2BW9GH/gEf/kTCWV5XLfD03/25D/5Axrv/AIJXf8E7L3PnfsgeChn/AJ5aZ5f/AKCRWdc/8Ehv%2BCbN3nzf2SfDYz/zykuU/wDQZRXVf8Jx/wAFC/8Ao1/4M/8Ah%2BNW/wDmXrl/jd%2B0d%2B3b8B/gx4v%2BOPir9lD4SXWl%2BDPC%2Boa7qVtp/wAddUaeaC0tpLiRIw/hhVLlYyFDMoyRkgc1k8pyqW%2BHh/4BH/5EyeR5JLfC0/8AwXD/AORM25/4Iw/8EyLv/W/spaWM/wDPPWtRT/0G5FUbj/gh/wD8EuLn/WfstQj/AK5%2BLtZT/wBBvBXpH/Ccf8FC/wDo1/4M/wDh%2BNW/%2BZej/hOP%2BChf/Rr/AMGf/D8at/8AMvWbyTJnvhqf/gEf8jJ8OcPy3wlL/wAFw/yPKp/%2BCE//AAS8m/1f7OdxF/1z8aawf/Qrs1Sn/wCCCf8AwTIl/wBX8FNUi/3PGOo/1mNexf8ACcf8FC/%2BjX/gz/4fjVv/AJl6P%2BE4/wCChf8A0a/8Gf8Aw/Grf/MvUPIMjf8AzC0//AEXDIckp/BhoL0jb8mjxKb/AIIA/wDBNSX/AFfwz1%2BP/c8XXf8AVzVWb/g3w/4JwS/6vwh4qj/3PFc39Qa9P%2BLv7R37dvwa8KWni/xH%2Byh8JLm3vPFGiaFHHZfHXVGcT6pqtrpkDnd4YUbFmu42c5yEViAxwp6j/hOP%2BChf/Rr/AMGf/D8at/8AMvUvh3IX/wAwsP8AwFHRHLcDD4YW9JTX5VEfP0v/AAbxf8E6pPuaX4zj/wBzxQf6xmq7/wDBuv8A8E%2Bc7re78fwn1i8Tx5/WA19E/wDCcf8ABQv/AKNf%2BDP/AIfjVv8A5l6P%2BE4/4KF/9Gv/AAZ/8Pxq3/zL1D4a4ff/ADCw/wDAf%2BCbRw0I/DKa9KtZflXR87L/AMG8v7EkBzY/Eb4rW3p5Hi2AY/O1NTxf8EAf2VbX/jx/aC%2BN1vjp5Hja2X/2zr6C/wCE4/4KF/8ARr/wZ/8AD8at/wDMvXL%2BPv2jv27fh34r8EeENY/ZQ%2BEk1x488US6FpUlt8ddUKQTx6VqGpl5d3hgEJ5OnTKCoY73QYwSyn%2BrWQLbDR/H/wCSG8PGW85/%2BDa//wA0HmFv/wAEKfgRZ/8AHh%2B13%2B0Lb46eT8Qrdcf%2BSdX7b/giv8PLH/jw/bu/aag9PK%2BKES4/Kzr2j/hOP%2BChf/Rr/wAGf/D8at/8y9H/AAnH/BQv/o1/4M/%2BH41b/wCZerXD2Sx2oL75f/JnPPLMJU%2BLmf8A3Frf/LzyKL/gj/YWv/Hh/wAFG/2pYcdNvxXA/lbCm/Av9ku8/Zb/AOChng0XX7TvxV%2BI6658GfGXlj4m%2BLDqn9neTq3hbP2bKL5fmeaN/wDe8qP%2B7Xr/APwnH/BQv/o1/wCDP/h%2BNW/%2BZeqHgfwP%2B1Z4x/as8OfG743fDj4e%2BGdG8M/D3xDocMPhX4h32tXV3dalfaJcIzJcaRYpFGiaXKCwd2LSoAuMkdFDKcuwtVVKULNf3p/k5tfgTQyrAYesqtOL5l1c6j/CVSS/BnutFFFeieiFFFFABRRRQAV85fsQ%2BGNN8Lfs8eLL2x8wi9/aG8f6nfOwzg/8J5qm9uB0VIx%2BC19G18lfsleLP2ztP%2BHviiz%2BGPwD%2BGGr6Enxp%2BIv9n6jr3xd1HTbuZf%2BEz1ksZLaLQLlIiG3AATPkAHIJ2hNJtPsXGpUjCUE9JWv52d19z1PqD/hOfBP/Q4aX/4MI/8A4ql/4TnwT/0OGlf%2BDCP/AOKry3/hOP8AgoX/ANGv/Bn/AMPxq3/zL0f8Jx/wUL/6Nf8Agz/4fjVv/mXpkHqX/Cc%2BCf8AocNK/wDBhH/8VR/wnPgn/ocNK/8ABhH/APFV5b/wnH/BQv8A6Nf%2BDP8A4fjVv/mXo/4Tj/goX/0a/wDBn/w/Grf/ADL0Aal98DP2KNU%2BHGk/B3U/g78LbjwjoF79s0LwrP4e019N0253SN50FsU8qGTdLKd6KDmRzn5jnQ0/4cfso6Ta2tlpXgP4e20NlaaTaWUNvpdii28GlzyXGmRIAoCJaTyyy26jAgkkd4wrMSfM/gj%2B0d%2B3b8ePgx4Q%2BOPhX9lD4SWul%2BM/C%2Bn67pttqHx11RZ4YLu2juI0kCeGGUOFkAYKzDIOCRzXUf8ACcf8FC/%2BjX/gz/4fjVv/AJl6ANWx%2BB/7FWl%2BKdb8c6Z8IPhdb634lguofEesQeH9NS61WO6x9pS5lCb51l2r5gckPgbs4roPG%2BlfAD4meCLn4ZfEjTfB3iDw3eQpFd%2BHtchtLuxnjRlZEeCUNGyqyqQCuAVBHQVxX/Ccf8FC/wDo1/4M/wDh%2BNW/%2BZej/hOP%2BChf/Rr/AMGf/D8at/8AMvQB1Q8E/swjw9b%2BER4R8BjSbTw3P4etdL%2BwWX2eHSJxGs2nJHt2rayCGIPAB5bCJAVO0Yw7r9nz9hi%2B%2BFtr8Dr34IfCebwVZX5vrPwfL4a0xtLgujvzOloY/JST94/zhQ3ztzya4n43ftHft2/Af4MeL/jj4q/ZQ%2BEl1pfgzwvqGu6lbaf8ddUaeaC0tpLiRIw/hhVLlYyFDMoyRkgc11H/AAnH/BQv/o1/4M/%2BH41b/wCZegDd8QfCb9kDxZY%2BGNL8VfDT4banbeCZY5fBlvqGjafNHoDoECNZK6EWpURpgxbSNi46Crl14G/Zevvipb/HS98H%2BAZvG9pZm0tPGMun2TarDblWUxJdlfOVMO42hsYZhjk1y3/Ccf8ABQv/AKNf%2BDP/AIfjVv8A5l6P%2BE4/4KF/9Gv/AAZ/8Pxq3/zL0Aeo/wDCc%2BCf%2Bhw0v/wYR/8AxVHgw79DM6g7Jr67liJGNyPcyMrfQqQR7GvLv%2BE4/wCChf8A0a/8Gf8Aw/Grf/MvXL/F39o79u34NeFLTxf4j/ZQ%2BElzb3nijRNCjjsvjrqjOJ9U1W10yBzu8MKNizXcbOc5CKxAY4UgH0dRXjP/AAnH/BQv/o1/4M/%2BH41b/wCZej/hOP8AgoX/ANGv/Bn/AMPxq3/zL0AezUV4z/wnH/BQv/o1/wCDP/h%2BNW/%2BZej/AITj/goX/wBGv/Bn/wAPxq3/AMy9AHs1FfOPj79o79u34d%2BK/BHhDWP2UPhJNcePPFEuhaVJbfHXVCkE8elahqZeXd4YBCeTp0ygqGO90GMEsvUf8Jx/wUL/AOjX/gz/AOH41b/5l6APZqK8Z/4Tj/goX/0a/wDBn/w/Grf/ADL0f8Jx/wAFC/8Ao1/4M/8Ah%2BNW/wDmXoA9morxn/hOP%2BChf/Rr/wAGf/D8at/8y9cvq37R37duj/GfQPgdcfsofCRtU8ReF9X12zuU%2BOuqeRHBp1zptvMjk%2BGNwdm1SAqApBCSZKkKGAPo6ivGf%2BE4/wCChf8A0a/8Gf8Aw/Grf/MvR/wnH/BQv/o1/wCDP/h%2BNW/%2BZegD2aivGf8AhOP%2BChf/AEa/8Gf/AA/Grf8AzL0f8Jx/wUL/AOjX/gz/AOH41b/5l6APZqK%2BcdJ/aO/bt1j4z6/8Drf9lD4SLqnh3wvpGu3ly/x11TyJINRudSt4UQjwxuLq2lzlgVAAePBYlgvUf8Jx/wAFC/8Ao1/4M/8Ah%2BNW/wDmXoA9morxn/hOP%2BChf/Rr/wAGf/D8at/8y9H/AAnH/BQv/o1/4M/%2BH41b/wCZegD2aivGf%2BE4/wCChf8A0a/8Gf8Aw/Grf/MvXL%2BAf2jv27fiJ4r8b%2BENH/ZQ%2BEkNx4D8URaFqslz8ddUCTzyaVp%2Bph4tvhgkp5OowqSwU70cYwAzAH0dRXjP/Ccf8FC/%2BjX/AIM/%2BH41b/5l6P8AhOP%2BChf/AEa/8Gf/AA/Grf8AzL0AezV4z%2By//wAlv/aO/wCyzWP/AKhXhej/AITj/goX/wBGv/Bn/wAPxq3/AMy9W/2Vvhz8afB%2BsfFDx38dNA8L6Tqnj74hRa5Z6V4T8S3OrW9raxaDo%2BmKr3FxZWbNI0mnSuVEW0LIg3Mc4APW6KKKACiiigAooooAKKKKACiiigAooooAKKKKACiiigAooooAKKKKACiiigAr5X/ae/a0%2BLnww%2BMfizWvAPh3wfJ4Y%2BD/AIf8P3vjU61pFxNquqW%2Br38qXMFhcR3EaWXkW1nHcZkinFzIUjIh8vzT9UV4z8Z/2Ifhx8bvikfiZrnjnxVpcWo2ukWvi/w1o11app3imDS72S9sYr5ZbeSYLHNNLn7PLAZY5DFMZYwqAA9mooooAKKKKAPmPw5%2B0r8TIf2//FHwf%2BI2seHvCfhtfEFpongyLUfhFrKXXjGAaBBqOIPEbXa6c0sd3c6gBaCF5PLtJgFBZpF%2BnK8r8WfstQeP/jJpHxT8e/G/xrq%2BleHtdj1rQPAFwdMi0ax1CO3eCOcNDZJey7PMkkVJrqSMSPu2fIgX1SgAooooA8X/AOCgvxd%2BOH7P37I/jT49fAK98KR6x4J0K71y6g8YaLc31td2lrbSzPboltdWzJK7IiiQuVQFiUfgV5/48/a0%2BLngv48eLdT8KeHfCEXw88IfGPwj8PvGVnNpFwdb1XVddg0VI9Qhu0uFhjjg/tzSYzFJbyvIkM%2BJY9qCvYf2sf2cbL9rT4Ea9%2Bz7rXxV8U%2BEdJ8T2Utjrl/4QXTvtdzZSxPFNbbr%2B0uo0R1flkRZAVG115zxcH7APg6f4i2fxF8VfHHx9rrHWdJ1zxNo2oS6VFY%2BJ9c0xI0sdWvY7awiZbiIQWmFtmggY2NsXiYx5IB73RRRQAV4v%2B2T8Xfjh8ErXwD4x%2BFl74U/sbUPiZ4c8PeL7HxBotzc3Vza6rrNjpoNnLDdQpbSRrcyyb5EnUlEXZyTXtFeVftXfstv%2B1V4b0LwvP8AH3xv4Gt9C8SWGuo3guHR2e7vbG8gvLNpTqWn3g2xXFvG4WMIG5WTep2gA84/Z5/aV%2BJmt/tVeLfgj8UNX8PeE9Oh8U63b%2BCfCUnwi1nTLnXraF0lN/b61cXf2DUHYyTSyxW0BfkuxXDE/TleS6T%2ByiH%2BMmi/GX4j/tAeO/Gs3he7vLvwnoXiEaTDYaPdXNvJayXES2Gn20sr/Z5p4V8%2BSVUWd9oBII9aoAKKKKAPD/27vi58eP2fvg1q/wAdfhR4x8C2On%2BFtFuby90XxZ4Zvb%2B58Q3uUWz0yzktr2D7PNcSkW6N5V0zSzxBYWPyt5/8Ef2vvjPrnxL8Ff2t4M8JaR8NPG/xP8UfDbwr4a07S5o9X0S/0CHVt889yLhreaCRvD%2BposMdvEY1a2PmSZYD0/8AaV/ZBg/aS8eeCPiBN%2B0D478IXPgG7ub3RbHwxFo09nJeyoI1vJoNT068R54Y/MWGQBTGJ5SPmbIq%2BA/2Gvh74D%2BMtv8AF2H4i%2BLtSg07XdT17RPCGpXNl/ZOla3qMbx6hqkCRWqT%2BfOJ7ssrzPCjX1yY4o/M4APa6KKKACvl/wDa5%2BPH7S/wW%2BImn%2BFNKh8AeNdH8cw61baL8OYvB99JrCWtpod1dyX9xOL14rq2F1Fb20kItYgft8KCYyMiSfUFeHTfsTXEf7R/iv8Aaa0T9qv4l6dq/i3TYdOudLhg8Pz2mn2cMDRw21m1zpMtzbxLK73WxZtrzuXcODtoAZ%2Bwh%2B0H43%2BPfw9vLr4r%2BPtGvvF2nCzbX/Ddl8LtX8I3mgPPbLKILmy1e6nuHBbf5dwAkciodobaTXuleb/A79m7Tvgz4n8SfEPWPil4p8ceKvFcVjb6x4n8XNYLcvaWYm%2By2qRafa2ttHFG1zcuNsIZmuJCzNkY9IoAKKKKAPjn/goJ%2B3H8VP2MPHP9p65ougeMfCL6NqOt2/hWX4c6nZS26abo19qSSf8ACRTXT6ZPd/a9NGyxWBLoRzLKBthaRvXv2aPi78c9W%2BKnjf8AZ6/aOufCmoeJ/COk6HrUeteCtIubCxubHVBeRpEYLm5uXWWK4067Uv5uJEMTbIySorfHX9hLwR%2B05rV1a/H/AOLfjXxR4LuZLiRfhleSabDosUk1jNZM2%2B3so76QCO4mYJLdOgd9235EC9P%2Bz5%2BzNpHwDvNe8RXfxQ8WeOPEfiQ2cereKvGtxZvfS21pEYrW1H2O2t4ViiDysMR72eeV3Z2cmgD0qiiigAr4j/an/bK/az%2BDfxq8QfCjwd4b8OeNdTsNFuNd8MBPgf4gjk0UDUdMtUMLfbnHiaQWOqXHnf2X5TwtCVlEYmEdfbleH69%2BxbqfiXx6fidrX7XPxRm1vT4LyLwbeFNAA8KrdTQyT/ZIxpOydmjgW33Xq3TLEzhSruzkA6r9lj4sP8ZPhHB4svfiZo3iq/h1G6stUvtG8GX3h0W1xFKytazabqFxPdWc8YwrxzOHz821QwFejVw3wD%2BAvh74AeGdT0bSvFOt%2BINR1/XrjW/EniTxHNA17qt/MERp5RbxQwJiOKGJUhijjVIkAUYJPc0AFFFFABRRRQAUUUUAFFFFAFHxR4hsPCXhrUfFeqhza6ZYzXdyIly3lxoXbA7nCmvnP9ib9pP41%2BP/ABTo/gz42eHvBlmPHXwtsviN4Zh8GaVcWg0yO8uCbvT7szXEou5o3ubZ/tiCATtLMTBHtBf6Wu7S1v7WWxvbdJoZo2jmilUMrqRgqQeCCOMV5D%2BzN%2BxX4C/Zg1V9X0D4g%2BLfEstt4YsfDPh0eLL21mGgaFZvI9vptqbe3hLRqZPmlnM1xII4vMmfy1wAexUUUUAFcL%2B1B48%2BIvws/Zo%2BInxO%2BD/hRde8W%2BHPAur6p4W0NrGa6Go6jb2csttbGGBllmEkqInlxsHbdhSCQa7qs7xbol/4l8Mah4f0vxXqOhXN7aSQ2%2BtaQsDXVi7KQJohcRSxF1PIEkbpkfMrDIIB5d%2BxT8Wp/ih8M76y1b4heH9Z1Pw7qq6deaZonww1Pwc%2BhoLaCSKzuNK1S5nuYXCOJFdvLR4pYtiYG9/Yq88%2BA/7O2k/A688S%2BI7n4ieJPGPiTxfqMN54i8U%2BK3sxd3Rht0t4IhHY21tbRRRxoAqxwpks7MWZmY%2Bh0AFFFFAHy5%2B1R%2B1j8UP2cPi944sviVo3hLxF8L7D9nfxf49ttCt9EuE1V20QaWs9tcXMly9vNFOt9OAgtkKhEy75YV2/7M/xf%2BPmqfFzxl%2Bzr%2B0s/hK88UeGPDHh7xLHqvgrSbmxspLLVn1K3W2MNzc3LmWG40i7BlEgWRHiby4zuWoPjH%2Bwr4d%2BOnx1b4y%2BPPjt45l02bwVqfhG%2B%2BHsMGi/2Jd6NqS232%2B0kL6a16RO1pA7OLoOpQhGRGZD0n7O/wCy7of7Pt9rXiOf4oeLfG/iHX7Wwsr/AMT%2BNrm0kvTYWKSLZ2Y%2ByW1vH5URnuHBKGR3uZXd3Zs0Aen0UUUAFfInxr/aX/a28Ga7%2B0B4Et/CvgzxZe%2BAvD/hTxJ8NrHSfh/qd/Oseo6rqUIS8tYrx5dRngXTY51NsLclyQq/KrV9d14XL%2BxR4hi%2BOnjb4/6F%2B2h8VtK1bxvpFjplzY2Vn4Ya0022sri5ns0thLoryfujeXSgzPKXWciTzCqFQDq/2VPi3N8ZfhSPE2o/E7RvFOo2uq3Njq11o/gi/wDDZs7iJvmtZ9M1G4nurSdFK7kmYMQyttVWFek1wnwD%2BAegfAHQtZsdP8W654j1XxN4gl1zxP4m8SS27Xuq38kMMHmyC2hhgjCwW9vCqRRRoqQoAuck93QAUUUUAfG37S37Xf7S37PHxmg%2BG2sp8M/Gt9rcEE3hGHTvC17aS%2BC7zUvEOmeHtIm1OV76YXUU7avOC0S2cjixuljDL5hi9x/ZV%2BL/AMSPiMPH/wAPvjEdEn8VfDTx43hrWdV8NadNZ2Gp%2BZpenatb3ENvNPPJb5tdUt0eNppcSRyYYgjHC23/AATV8JNdfEN/EP7S/wATtZt/iTrx1zWLfUjoXmWepRXEM%2Bn3NtdRaWl0psHt7cWkbzSRRLCgZH5z6x8A/gLofwD8Patptl4v1zxJq3iLXpta8T%2BKPEr2xv8AV76SOKHzphawQQLsggt4ESKKNFjgjULwSQDuqKKKAGXP2n7NJ9j2edsPlebnbuxxnHOM18QfFb9rn9tP4afETXPhtb23gPxnr3hi98NW%2BreOvBHwV1/Vo/DlvqzXj3thLpVnqU93czRw2VjdExTp%2B7uoWlgQGJpPt67hkuLWW3hupIHkjZVniCl4yRgMu4FcjqMgj1Br57%2BDH7AXiD4CfDa4%2BGnw7/bq%2BMUUd1qz6nNrN5ZeE59Qlu5XlkuZ5pn0I/aZJ3l3SSTiR8xpsKAYIB6z8BPiHZfFb4O%2BH/iFYfEDRvFSanp4kfX/AA/pM1haXcgJWQpazzTS2xV1ZGhkkd42VlY7lIHX1yXwL%2BC/hL9n34X6d8KfBVzf3FlYS3VxNfarcia6vru6uZbq6upnCqGlmuJ5pX2qq7pDtVVwo62gAqj4nh8SXPhvULfwbqdjZavJZSrpd5qdg91bQXBQiOSWGOWJpo1bBZFkjLAEB1J3C9Wb4x0G/wDFHha/8O6X4t1LQbm8tXig1rRxAbqxcjiaIXEUsRdTyBJG6HHzKwyKAPh74b/t2fta/GD4p638EvhZpvw%2BTxnptrrt9J4z8V/C7WtDXVNM0i10WVLGXRLy%2BTUNPle78Q7EmnmePyoZLhIXWdAfsb4BfFrTfj58CfBXx10bTZbOz8a%2BEtN160s5n3PBFeWsdwsbEAZKiQAn1FeLav8A8EyPA%2Bta5ffEW7/aU%2BKafEDVkvLXWviTbXukQ6tf6ZdW1rbTaYUTTRZw2xSytGHkW0UqyQLKsocsx%2Bg/Bfg/w18PPB2k%2BAPBmkxafo%2Bh6ZBp%2Bk2EOdltbQxrHFGuecKiqo%2BlAGnRRRQBy/xp1Hxxo3wt1rW/hz4hsdL1awszdQ32oeD73xAiRxkPKBp1jPBc3kjRK6pFDIHLsuFc/I3xb8Jf%2BCiPx%2B8SeNND1PxvceEfAngzUp518QeOLz4GeIprbWL%2BHX7rSES5lW%2BjTwzPJa2lr%2B41RpJYHlWN87AlfbfxM8Ga7498JTeHPDfxS1/wbeSSxvFr/hmKxe7g2sCVVb%2B2uYGDAFSHibgnGDgjxW6/4JzeFNQ8H3Hw21b9pD4m3fhjXNQmv/HmgTXGjiLxhdz3jXVxNfSrpouIvNLLC0dnLaxCGJI1RRu3AH0TRRRQAUUUUAFFFFABRRRQAUUUUAFFFFABRRRQAUUUUAFFFFABRRRQAUUUUAFFFFABRRRQAUUUUAFFFFABRRRQAUUUUAFFFFABRRRQAUUUUAFFFFABRRRQAUUUUAFFFFABRRRQAUUUUAFFFFABRRRQAUUUUAFFFFABRRRQAUUUUAFFFFABRRRQAUUUUAFFFFABRRRQAUUUUAFFFFABRRRQAUUUUAFFFFABRRRQAUUUUAFFFFABRRRQAUUUUAFFFFABRRRQAUUUUAFFFFABRRRQAUUUUAFFFFABRRRQAUUUUAFFFFABRRRQAUUUUAFFFFABRRRQB//Z\">"
      ]
     },
     "metadata": {},
     "output_type": "display_data"
    }
   ],
   "source": [
    "s.run(tf.global_variables_initializer())\n",
    "\n",
    "BATCH_SIZE = 512\n",
    "EPOCHS = 40\n",
    "\n",
    "# for logging the progress right here in Jupyter (for those who don't have TensorBoard)\n",
    "simpleTrainingCurves = matplotlib_utils.SimpleTrainingCurves(\"cross-entropy\", \"accuracy\")\n",
    "\n",
    "for epoch in range(EPOCHS):  # we finish an epoch when we've looked at all training samples\n",
    "    \n",
    "    batch_losses = []\n",
    "    for batch_start in range(0, X_train_flat.shape[0], BATCH_SIZE):  # data is already shuffled\n",
    "        _, batch_loss = s.run([step, loss], {input_X: X_train_flat[batch_start:batch_start+BATCH_SIZE], \n",
    "                                             input_y: y_train_oh[batch_start:batch_start+BATCH_SIZE]})\n",
    "        # collect batch losses, this is almost free as we need a forward pass for backprop anyway\n",
    "        batch_losses.append(batch_loss)\n",
    "\n",
    "    train_loss = np.mean(batch_losses)\n",
    "    val_loss = s.run(loss, {input_X: X_val_flat, input_y: y_val_oh})  # this part is usually small\n",
    "    train_accuracy = accuracy_score(y_train, s.run(classes, {input_X: X_train_flat}))  # this is slow and usually skipped\n",
    "    valid_accuracy = accuracy_score(y_val, s.run(classes, {input_X: X_val_flat}))  \n",
    "    simpleTrainingCurves.add(train_loss, val_loss, train_accuracy, valid_accuracy)"
   ]
  },
  {
   "cell_type": "markdown",
   "metadata": {},
   "source": [
    "# Submit a linear model"
   ]
  },
  {
   "cell_type": "code",
   "execution_count": 20,
   "metadata": {
    "collapsed": true
   },
   "outputs": [],
   "source": [
    "## GRADED PART, DO NOT CHANGE!\n",
    "# Testing shapes \n",
    "grader.set_answer(\"9XaAS\", grading_utils.get_tensors_shapes_string([W, b, input_X, input_y, logits, probas, classes]))\n",
    "# Validation loss\n",
    "grader.set_answer(\"vmogZ\", s.run(loss, {input_X: X_val_flat, input_y: y_val_oh}))\n",
    "# Validation accuracy\n",
    "grader.set_answer(\"RMv95\", accuracy_score(y_val, s.run(classes, {input_X: X_val_flat})))"
   ]
  },
  {
   "cell_type": "code",
   "execution_count": 21,
   "metadata": {},
   "outputs": [
    {
     "name": "stdout",
     "output_type": "stream",
     "text": [
      "Submitted to Coursera platform. See results on assignment page!\n"
     ]
    }
   ],
   "source": [
    "# you can make submission with answers so far to check yourself at this stage\n",
    "grader.submit(COURSERA_EMAIL, COURSERA_TOKEN)"
   ]
  },
  {
   "cell_type": "markdown",
   "metadata": {},
   "source": [
    "# MLP with hidden layers"
   ]
  },
  {
   "cell_type": "markdown",
   "metadata": {},
   "source": [
    "Previously we've coded a dense layer with matrix multiplication by hand. \n",
    "But this is not convenient, you have to create a lot of variables and your code becomes a mess. \n",
    "In TensorFlow there's an easier way to make a dense layer:\n",
    "```python\n",
    "hidden1 = tf.layers.dense(inputs, 256, activation=tf.nn.sigmoid)\n",
    "```\n",
    "\n",
    "That will create all the necessary variables automatically.\n",
    "Here you can also choose an activation function (remember that we need it for a hidden layer!).\n",
    "\n",
    "Now define the MLP with 2 hidden layers and restart training with the cell above.\n",
    "\n",
    "You're aiming for ~0.97 validation accuracy here."
   ]
  },
  {
   "cell_type": "code",
   "execution_count": null,
   "metadata": {
    "collapsed": true
   },
   "outputs": [],
   "source": [
    "# write the code here to get a new `step` operation and then run the cell with training loop above.\n",
    "# name your variables in the same way (e.g. logits, probas, classes, etc) for safety.\n",
    "### YOUR CODE HERE ###\n",
    "from preprocessed_mnist import load_dataset\n",
    "X_train, y_train, X_val, y_val, X_test, y_test = load_dataset()\n",
    "print(X_train.shape, y_train.shape)"
   ]
  },
  {
   "cell_type": "code",
   "execution_count": null,
   "metadata": {
    "collapsed": true
   },
   "outputs": [],
   "source": [
    "s = reset_tf_session()\n",
    "input_X = tf.placeholder(tf.float32, shape=(None,784))\n",
    "input_y = tf.placeholder(tf.float32, shape=(None,10))\n",
    "hidden1 = tf.layers.dense(input_X, 256,activation=tf.nn.sigmoid)\n",
    "hidden2 = tf.layers.dense(hidden1, 256,activation=tf.nn.sigmoid)\n",
    "logits = tf.layers.dense(hidden2, 10)\n",
    "probas = tf.nn.softmax(logits)\n",
    "classes = tf.argmax(probas,1)\n",
    "#print(hidden1.shape,logits.shape, probas.shape, classes.shape)\n",
    "\n",
    "loss = tf.reduce_mean(tf.nn.softmax_cross_entropy_with_logits(labels=input_y, logits=logits))\n",
    "\n",
    "step = tf.train.AdamOptimizer().minimize(loss)\n",
    "\n",
    "s.run(tf.global_variables_initializer())\n",
    "\n",
    "BATCH_SIZE = 512\n",
    "EPOCHS = 40\n",
    "\n",
    "# for logging the progress right here in Jupyter (for those who don't have TensorBoard)\n",
    "simpleTrainingCurves = matplotlib_utils.SimpleTrainingCurves(\"cross-entropy\", \"accuracy\")\n",
    "\n",
    "for epoch in range(EPOCHS):  # we finish an epoch when we've looked at all training samples\n",
    "    \n",
    "    batch_losses = []\n",
    "    for batch_start in range(0, X_train_flat.shape[0], BATCH_SIZE):  # data is already shuffled\n",
    "        _, batch_loss = s.run([step, loss], {input_X: X_train_flat[batch_start:batch_start+BATCH_SIZE], \n",
    "                                             input_y: y_train_oh[batch_start:batch_start+BATCH_SIZE]})\n",
    "        # collect batch losses, this is almost free as we need a forward pass for backprop anyway\n",
    "        batch_losses.append(batch_loss)\n",
    "\n",
    "    train_loss = np.mean(batch_losses)\n",
    "    val_loss = s.run(loss, {input_X: X_val_flat, input_y: y_val_oh})  # this part is usually small\n",
    "    train_accuracy = accuracy_score(y_train, s.run(classes, {input_X: X_train_flat}))  # this is slow and usually skipped\n",
    "    valid_accuracy = accuracy_score(y_val, s.run(classes, {input_X: X_val_flat}))"
   ]
  },
  {
   "cell_type": "markdown",
   "metadata": {},
   "source": [
    "# Submit the MLP with 2 hidden layers\n",
    "Run these cells after training the MLP with 2 hidden layers"
   ]
  },
  {
   "cell_type": "code",
   "execution_count": null,
   "metadata": {
    "collapsed": true
   },
   "outputs": [],
   "source": [
    "## GRADED PART, DO NOT CHANGE!\n",
    "# Validation loss for MLP\n",
    "grader.set_answer(\"i8bgs\", s.run(loss, {input_X: X_val_flat, input_y: y_val_oh}))\n",
    "# Validation accuracy for MLP\n",
    "grader.set_answer(\"rE763\", accuracy_score(y_val, s.run(classes, {input_X: X_val_flat})))"
   ]
  },
  {
   "cell_type": "code",
   "execution_count": null,
   "metadata": {
    "collapsed": true
   },
   "outputs": [],
   "source": [
    "# you can make submission with answers so far to check yourself at this stage\n",
    "grader.submit(COURSERA_EMAIL, COURSERA_TOKEN)"
   ]
  },
  {
   "cell_type": "code",
   "execution_count": null,
   "metadata": {
    "collapsed": true
   },
   "outputs": [],
   "source": []
  },
  {
   "cell_type": "code",
   "execution_count": null,
   "metadata": {
    "collapsed": true
   },
   "outputs": [],
   "source": []
  }
 ],
 "metadata": {
  "kernelspec": {
   "display_name": "Python 3",
   "language": "python",
   "name": "python3"
  },
  "language_info": {
   "codemirror_mode": {
    "name": "ipython",
    "version": 3
   },
   "file_extension": ".py",
   "mimetype": "text/x-python",
   "name": "python",
   "nbconvert_exporter": "python",
   "pygments_lexer": "ipython3",
   "version": "3.6.2"
  }
 },
 "nbformat": 4,
 "nbformat_minor": 1
}
